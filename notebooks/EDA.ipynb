{
 "cells": [
  {
   "cell_type": "code",
   "execution_count": 29,
   "id": "33fbcbc5",
   "metadata": {},
   "outputs": [
    {
     "data": {
      "text/html": [
       "<div>\n",
       "<style scoped>\n",
       "    .dataframe tbody tr th:only-of-type {\n",
       "        vertical-align: middle;\n",
       "    }\n",
       "\n",
       "    .dataframe tbody tr th {\n",
       "        vertical-align: top;\n",
       "    }\n",
       "\n",
       "    .dataframe thead th {\n",
       "        text-align: right;\n",
       "    }\n",
       "</style>\n",
       "<table border=\"1\" class=\"dataframe\">\n",
       "  <thead>\n",
       "    <tr style=\"text-align: right;\">\n",
       "      <th></th>\n",
       "      <th>ECR_ID</th>\n",
       "      <th>Product_Type</th>\n",
       "      <th>Component_Name</th>\n",
       "      <th>Change_Type</th>\n",
       "      <th>Change_Complexity</th>\n",
       "      <th>Supplier_Criticality</th>\n",
       "      <th>Past_Similar_Changes</th>\n",
       "      <th>Team_Experience_Level</th>\n",
       "      <th>BOM_Depth</th>\n",
       "      <th>Urgency</th>\n",
       "      <th>Approval_Time_Days</th>\n",
       "      <th>Parts_Affected</th>\n",
       "      <th>Risk_Score</th>\n",
       "    </tr>\n",
       "  </thead>\n",
       "  <tbody>\n",
       "    <tr>\n",
       "      <th>0</th>\n",
       "      <td>ECR_1000</td>\n",
       "      <td>Chassis</td>\n",
       "      <td>Frame</td>\n",
       "      <td>Process</td>\n",
       "      <td>3</td>\n",
       "      <td>4</td>\n",
       "      <td>2</td>\n",
       "      <td>5</td>\n",
       "      <td>4</td>\n",
       "      <td>Low</td>\n",
       "      <td>14</td>\n",
       "      <td>10</td>\n",
       "      <td>0.350421</td>\n",
       "    </tr>\n",
       "    <tr>\n",
       "      <th>1</th>\n",
       "      <td>ECR_1001</td>\n",
       "      <td>Display</td>\n",
       "      <td>Connector</td>\n",
       "      <td>Process</td>\n",
       "      <td>5</td>\n",
       "      <td>5</td>\n",
       "      <td>1</td>\n",
       "      <td>5</td>\n",
       "      <td>3</td>\n",
       "      <td>High</td>\n",
       "      <td>16</td>\n",
       "      <td>7</td>\n",
       "      <td>0.383295</td>\n",
       "    </tr>\n",
       "    <tr>\n",
       "      <th>2</th>\n",
       "      <td>ECR_1002</td>\n",
       "      <td>PCB</td>\n",
       "      <td>Cell</td>\n",
       "      <td>Process</td>\n",
       "      <td>5</td>\n",
       "      <td>5</td>\n",
       "      <td>3</td>\n",
       "      <td>4</td>\n",
       "      <td>3</td>\n",
       "      <td>Medium</td>\n",
       "      <td>19</td>\n",
       "      <td>8</td>\n",
       "      <td>0.386081</td>\n",
       "    </tr>\n",
       "    <tr>\n",
       "      <th>3</th>\n",
       "      <td>ECR_1003</td>\n",
       "      <td>Display</td>\n",
       "      <td>Valve</td>\n",
       "      <td>Design</td>\n",
       "      <td>5</td>\n",
       "      <td>5</td>\n",
       "      <td>0</td>\n",
       "      <td>5</td>\n",
       "      <td>7</td>\n",
       "      <td>High</td>\n",
       "      <td>11</td>\n",
       "      <td>14</td>\n",
       "      <td>0.385286</td>\n",
       "    </tr>\n",
       "    <tr>\n",
       "      <th>4</th>\n",
       "      <td>ECR_1004</td>\n",
       "      <td>Display</td>\n",
       "      <td>Controller</td>\n",
       "      <td>Supplier</td>\n",
       "      <td>8</td>\n",
       "      <td>1</td>\n",
       "      <td>2</td>\n",
       "      <td>2</td>\n",
       "      <td>2</td>\n",
       "      <td>Medium</td>\n",
       "      <td>14</td>\n",
       "      <td>6</td>\n",
       "      <td>0.337829</td>\n",
       "    </tr>\n",
       "  </tbody>\n",
       "</table>\n",
       "</div>"
      ],
      "text/plain": [
       "     ECR_ID Product_Type Component_Name Change_Type  Change_Complexity  \\\n",
       "0  ECR_1000      Chassis          Frame     Process                  3   \n",
       "1  ECR_1001      Display      Connector     Process                  5   \n",
       "2  ECR_1002          PCB           Cell     Process                  5   \n",
       "3  ECR_1003      Display          Valve      Design                  5   \n",
       "4  ECR_1004      Display     Controller    Supplier                  8   \n",
       "\n",
       "   Supplier_Criticality  Past_Similar_Changes  Team_Experience_Level  \\\n",
       "0                     4                     2                      5   \n",
       "1                     5                     1                      5   \n",
       "2                     5                     3                      4   \n",
       "3                     5                     0                      5   \n",
       "4                     1                     2                      2   \n",
       "\n",
       "   BOM_Depth Urgency  Approval_Time_Days  Parts_Affected  Risk_Score  \n",
       "0          4     Low                  14              10    0.350421  \n",
       "1          3    High                  16               7    0.383295  \n",
       "2          3  Medium                  19               8    0.386081  \n",
       "3          7    High                  11              14    0.385286  \n",
       "4          2  Medium                  14               6    0.337829  "
      ]
     },
     "execution_count": 29,
     "metadata": {},
     "output_type": "execute_result"
    }
   ],
   "source": [
    "import pandas as pd\n",
    "import seaborn as sns\n",
    "import matplotlib.pyplot as plt\n",
    "import plotly.express as px\n",
    "\n",
    "# Load dataset\n",
    "df = pd.read_csv(\"../data/ecr_data.csv\")\n",
    "df.head()\n"
   ]
  },
  {
   "cell_type": "code",
   "execution_count": 30,
   "id": "9645043d",
   "metadata": {},
   "outputs": [
    {
     "data": {
      "text/plain": [
       "Index(['ECR_ID', 'Product_Type', 'Component_Name', 'Change_Type',\n",
       "       'Change_Complexity', 'Supplier_Criticality', 'Past_Similar_Changes',\n",
       "       'Team_Experience_Level', 'BOM_Depth', 'Urgency', 'Approval_Time_Days',\n",
       "       'Parts_Affected', 'Risk_Score'],\n",
       "      dtype='object')"
      ]
     },
     "execution_count": 30,
     "metadata": {},
     "output_type": "execute_result"
    }
   ],
   "source": [
    "df.columns"
   ]
  },
  {
   "cell_type": "code",
   "execution_count": 31,
   "id": "066568f2",
   "metadata": {},
   "outputs": [
    {
     "name": "stdout",
     "output_type": "stream",
     "text": [
      "Dataset Shape: (2000, 13)\n"
     ]
    }
   ],
   "source": [
    "print(\"Dataset Shape:\", df.shape)"
   ]
  },
  {
   "cell_type": "code",
   "execution_count": 32,
   "id": "60568e2f",
   "metadata": {},
   "outputs": [
    {
     "name": "stdout",
     "output_type": "stream",
     "text": [
      "<class 'pandas.core.frame.DataFrame'>\n",
      "RangeIndex: 2000 entries, 0 to 1999\n",
      "Data columns (total 13 columns):\n",
      " #   Column                 Non-Null Count  Dtype  \n",
      "---  ------                 --------------  -----  \n",
      " 0   ECR_ID                 2000 non-null   object \n",
      " 1   Product_Type           2000 non-null   object \n",
      " 2   Component_Name         2000 non-null   object \n",
      " 3   Change_Type            2000 non-null   object \n",
      " 4   Change_Complexity      2000 non-null   int64  \n",
      " 5   Supplier_Criticality   2000 non-null   int64  \n",
      " 6   Past_Similar_Changes   2000 non-null   int64  \n",
      " 7   Team_Experience_Level  2000 non-null   int64  \n",
      " 8   BOM_Depth              2000 non-null   int64  \n",
      " 9   Urgency                2000 non-null   object \n",
      " 10  Approval_Time_Days     2000 non-null   int64  \n",
      " 11  Parts_Affected         2000 non-null   int64  \n",
      " 12  Risk_Score             2000 non-null   float64\n",
      "dtypes: float64(1), int64(7), object(5)\n",
      "memory usage: 203.2+ KB\n",
      "None\n"
     ]
    }
   ],
   "source": [
    "print(df.info())"
   ]
  },
  {
   "cell_type": "code",
   "execution_count": 4,
   "id": "0fede515",
   "metadata": {},
   "outputs": [
    {
     "name": "stdout",
     "output_type": "stream",
     "text": [
      "       Change_Complexity  Supplier_Criticality  Past_Similar_Changes  \\\n",
      "count        2000.000000           2000.000000           2000.000000   \n",
      "mean            5.543000              2.920000              2.015500   \n",
      "std             2.892462              1.418664              1.459563   \n",
      "min             1.000000              1.000000              0.000000   \n",
      "25%             3.000000              2.000000              1.000000   \n",
      "50%             6.000000              3.000000              2.000000   \n",
      "75%             8.000000              4.000000              3.000000   \n",
      "max            10.000000              5.000000              8.000000   \n",
      "\n",
      "       Team_Experience_Level   BOM_Depth  Approval_Time_Days  Parts_Affected  \\\n",
      "count            2000.000000  2000.00000         2000.000000     2000.000000   \n",
      "mean                2.990000     3.93550           14.831000       10.235000   \n",
      "std                 1.412763     2.03357            5.671818        4.661506   \n",
      "min                 1.000000     1.00000           -1.000000        0.000000   \n",
      "25%                 2.000000     2.00000           11.000000        6.000000   \n",
      "50%                 3.000000     4.00000           15.000000       10.000000   \n",
      "75%                 4.000000     6.00000           19.000000       14.000000   \n",
      "max                 5.000000     7.00000           30.000000       22.000000   \n",
      "\n",
      "        Risk_Score  \n",
      "count  2000.000000  \n",
      "mean      0.361618  \n",
      "std       0.023291  \n",
      "min       0.301558  \n",
      "25%       0.344642  \n",
      "50%       0.361332  \n",
      "75%       0.377955  \n",
      "max       0.427074  \n"
     ]
    }
   ],
   "source": [
    "print(df.describe())"
   ]
  },
  {
   "cell_type": "code",
   "execution_count": 12,
   "id": "ffe5abe6",
   "metadata": {},
   "outputs": [
    {
     "name": "stdout",
     "output_type": "stream",
     "text": [
      "Missing Values:\n",
      " ECR_ID                   0\n",
      "Product_Type             0\n",
      "Component_Name           0\n",
      "Change_Type              0\n",
      "Change_Complexity        0\n",
      "Supplier_Criticality     0\n",
      "Past_Similar_Changes     0\n",
      "Team_Experience_Level    0\n",
      "BOM_Depth                0\n",
      "Urgency                  0\n",
      "Approval_Time_Days       0\n",
      "Parts_Affected           0\n",
      "Risk_Score               0\n",
      "dtype: int64\n"
     ]
    }
   ],
   "source": [
    "print(\"Missing Values:\\n\", df.isnull().sum())"
   ]
  },
  {
   "cell_type": "code",
   "execution_count": null,
   "id": "c526e090",
   "metadata": {},
   "outputs": [
    {
     "data": {
      "image/png": "[encoded data removed]",
      "text/plain": [
       "<Figure size 640x480 with 1 Axes>"
      ]
     },
     "metadata": {},
     "output_type": "display_data"
    },
    {
     "data": {
      "image/png": "[encoded data removed]",
      "text/plain": [
       "<Figure size 640x480 with 1 Axes>"
      ]
     },
     "metadata": {},
     "output_type": "display_data"
    },
    {
     "data": {
      "image/png": "[encoded data removed]",
      "text/plain": [
       "<Figure size 640x480 with 1 Axes>"
      ]
     },
     "metadata": {},
     "output_type": "display_data"
    },
    {
     "data": {
      "image/png": "[encoded data removed]",
      "text/plain": [
       "<Figure size 640x480 with 1 Axes>"
      ]
     },
     "metadata": {},
     "output_type": "display_data"
    }
   ],
   "source": [
    "# Categorical Distributions\n",
    "\n",
    "categorical_cols = [\"Product_Type\", \"Component_Name\", \"Change_Type\", \"Urgency\"]\n",
    "for col in categorical_cols:\n",
    "    sns.countplot(x=col, data=df)\n",
    "    plt.xticks(rotation=45)\n",
    "    plt.show()"
   ]
  },
  {
   "cell_type": "code",
   "execution_count": null,
   "id": "44a6bfc8",
   "metadata": {},
   "outputs": [
    {
     "data": {
      "image/png": "[encoded data removed]",
      "text/plain": [
       "<Figure size 1200x800 with 6 Axes>"
      ]
     },
     "metadata": {},
     "output_type": "display_data"
    }
   ],
   "source": [
    "# Numerical Feature Distributions\n",
    "\n",
    "numeric_cols = [\"Change_Complexity\", \"Supplier_Criticality\", \"Approval_Time_Days\", \"Parts_Affected\", \"Risk_Score\"]\n",
    "df[numeric_cols].hist(bins=20, figsize=(12,8))\n",
    "plt.show()"
   ]
  },
  {
   "cell_type": "code",
   "execution_count": null,
   "id": "2e8e2767",
   "metadata": {},
   "outputs": [
    {
     "data": {
      "image/png": "[encoded data removed]",
      "text/plain": [
       "<Figure size 1000x600 with 2 Axes>"
      ]
     },
     "metadata": {},
     "output_type": "display_data"
    }
   ],
   "source": [
    "# Correlation Heatmap\n",
    "\n",
    "plt.figure(figsize=(10,6))\n",
    "sns.heatmap(df.corr(numeric_only=True), annot=True, cmap=\"coolwarm\")\n",
    "plt.title(\"Feature Correlation Heatmap\")\n",
    "plt.show()"
   ]
  },
  {
   "cell_type": "code",
   "execution_count": null,
   "id": "e9df7633",
   "metadata": {},
   "outputs": [
    {
     "data": {
      "application/vnd.plotly.v1+json": {
       "config": {
        "plotlyServerURL": "https://plot.ly"
       },
       "data": [
        {
         "customdata": [
          [
           "Chassis"
          ],
          [
           "Display"
          ],
          [
           "PCB"
          ],
          [
           "PCB"
          ],
          [
           "PCB"
          ],
          [
           "Battery"
          ],
          [
           "Chassis"
          ],
          [
           "Chassis"
          ],
          [
           "PCB"
          ],
          [
           "PCB"
          ],
          [
           "Display"
          ],
          [
           "Display"
          ],
          [
           "Battery"
          ],
          [
           "Chassis"
          ],
          [
           "Engine"
          ],
          [
           "Engine"
          ],
          [
           "Chassis"
          ],
          [
           "Display"
          ],
          [
           "Battery"
          ],
          [
           "Chassis"
          ],
          [
           "Battery"
          ],
          [
           "Battery"
          ],
          [
           "Battery"
          ],
          [
           "Chassis"
          ],
          [
           "Display"
          ],
          [
           "Battery"
          ],
          [
           "Chassis"
          ],
          [
           "Display"
          ],
          [
           "Engine"
          ],
          [
           "PCB"
          ],
          [
           "PCB"
          ],
          [
           "PCB"
          ],
          [
           "Battery"
          ],
          [
           "Battery"
          ],
          [
           "Engine"
          ],
          [
           "Chassis"
          ],
          [
           "Battery"
          ],
          [
           "Display"
          ],
          [
           "PCB"
          ],
          [
           "Battery"
          ],
          [
           "Chassis"
          ],
          [
           "PCB"
          ],
          [
           "Chassis"
          ],
          [
           "Display"
          ],
          [
           "PCB"
          ],
          [
           "Display"
          ],
          [
           "PCB"
          ],
          [
           "PCB"
          ],
          [
           "Chassis"
          ],
          [
           "Chassis"
          ],
          [
           "Chassis"
          ],
          [
           "Engine"
          ],
          [
           "PCB"
          ],
          [
           "Engine"
          ],
          [
           "PCB"
          ],
          [
           "PCB"
          ],
          [
           "Engine"
          ],
          [
           "PCB"
          ],
          [
           "Battery"
          ],
          [
           "Engine"
          ],
          [
           "Engine"
          ],
          [
           "Chassis"
          ],
          [
           "Chassis"
          ],
          [
           "PCB"
          ],
          [
           "Engine"
          ],
          [
           "Display"
          ],
          [
           "Battery"
          ],
          [
           "Display"
          ],
          [
           "PCB"
          ],
          [
           "Battery"
          ],
          [
           "Engine"
          ],
          [
           "Display"
          ],
          [
           "PCB"
          ],
          [
           "Chassis"
          ],
          [
           "PCB"
          ],
          [
           "Battery"
          ],
          [
           "PCB"
          ],
          [
           "Chassis"
          ],
          [
           "Engine"
          ],
          [
           "Engine"
          ],
          [
           "PCB"
          ],
          [
           "PCB"
          ],
          [
           "PCB"
          ],
          [
           "PCB"
          ],
          [
           "PCB"
          ],
          [
           "Engine"
          ],
          [
           "Display"
          ],
          [
           "Battery"
          ],
          [
           "Battery"
          ],
          [
           "Display"
          ],
          [
           "Engine"
          ],
          [
           "Chassis"
          ],
          [
           "Engine"
          ],
          [
           "Chassis"
          ],
          [
           "PCB"
          ],
          [
           "Display"
          ],
          [
           "Engine"
          ],
          [
           "Chassis"
          ],
          [
           "Display"
          ],
          [
           "Engine"
          ],
          [
           "Chassis"
          ],
          [
           "Display"
          ],
          [
           "PCB"
          ],
          [
           "Engine"
          ],
          [
           "Display"
          ],
          [
           "Battery"
          ],
          [
           "Engine"
          ],
          [
           "Engine"
          ],
          [
           "Display"
          ],
          [
           "Battery"
          ],
          [
           "PCB"
          ],
          [
           "Engine"
          ],
          [
           "Chassis"
          ],
          [
           "Engine"
          ],
          [
           "Display"
          ],
          [
           "Battery"
          ],
          [
           "Engine"
          ],
          [
           "Battery"
          ],
          [
           "Display"
          ],
          [
           "Battery"
          ],
          [
           "PCB"
          ],
          [
           "Display"
          ],
          [
           "Chassis"
          ],
          [
           "Chassis"
          ],
          [
           "PCB"
          ],
          [
           "Chassis"
          ],
          [
           "Battery"
          ],
          [
           "PCB"
          ],
          [
           "Engine"
          ],
          [
           "Battery"
          ],
          [
           "Display"
          ],
          [
           "Engine"
          ],
          [
           "Display"
          ],
          [
           "Display"
          ],
          [
           "Engine"
          ],
          [
           "PCB"
          ],
          [
           "Display"
          ],
          [
           "Engine"
          ],
          [
           "Battery"
          ],
          [
           "Display"
          ],
          [
           "Display"
          ],
          [
           "Battery"
          ],
          [
           "Battery"
          ],
          [
           "PCB"
          ],
          [
           "Engine"
          ],
          [
           "Display"
          ],
          [
           "Chassis"
          ],
          [
           "Display"
          ],
          [
           "Chassis"
          ],
          [
           "Engine"
          ],
          [
           "Engine"
          ],
          [
           "Battery"
          ],
          [
           "Display"
          ],
          [
           "Chassis"
          ],
          [
           "Battery"
          ],
          [
           "Display"
          ],
          [
           "Battery"
          ],
          [
           "Display"
          ],
          [
           "Display"
          ],
          [
           "Engine"
          ],
          [
           "Chassis"
          ],
          [
           "PCB"
          ],
          [
           "Battery"
          ],
          [
           "Engine"
          ],
          [
           "Engine"
          ],
          [
           "Engine"
          ],
          [
           "Engine"
          ],
          [
           "Display"
          ],
          [
           "PCB"
          ],
          [
           "Chassis"
          ],
          [
           "PCB"
          ],
          [
           "Engine"
          ],
          [
           "Chassis"
          ],
          [
           "Display"
          ],
          [
           "Battery"
          ],
          [
           "Battery"
          ],
          [
           "Display"
          ],
          [
           "PCB"
          ],
          [
           "PCB"
          ],
          [
           "PCB"
          ],
          [
           "Chassis"
          ],
          [
           "Battery"
          ],
          [
           "Engine"
          ],
          [
           "Engine"
          ],
          [
           "Battery"
          ],
          [
           "Battery"
          ],
          [
           "Display"
          ],
          [
           "Chassis"
          ],
          [
           "PCB"
          ],
          [
           "PCB"
          ],
          [
           "Chassis"
          ],
          [
           "Battery"
          ],
          [
           "Display"
          ],
          [
           "Engine"
          ],
          [
           "Engine"
          ],
          [
           "Engine"
          ],
          [
           "Display"
          ],
          [
           "Display"
          ],
          [
           "PCB"
          ],
          [
           "Chassis"
          ],
          [
           "Engine"
          ],
          [
           "Display"
          ],
          [
           "PCB"
          ],
          [
           "Battery"
          ],
          [
           "Chassis"
          ],
          [
           "Chassis"
          ],
          [
           "Battery"
          ],
          [
           "Chassis"
          ],
          [
           "Engine"
          ],
          [
           "Chassis"
          ],
          [
           "Display"
          ],
          [
           "Battery"
          ],
          [
           "PCB"
          ],
          [
           "Display"
          ],
          [
           "Battery"
          ],
          [
           "Battery"
          ],
          [
           "Display"
          ],
          [
           "Display"
          ],
          [
           "Engine"
          ],
          [
           "Battery"
          ],
          [
           "Engine"
          ],
          [
           "Display"
          ],
          [
           "Engine"
          ],
          [
           "Battery"
          ],
          [
           "Display"
          ],
          [
           "Display"
          ],
          [
           "Display"
          ],
          [
           "Battery"
          ],
          [
           "PCB"
          ],
          [
           "Display"
          ],
          [
           "Display"
          ],
          [
           "Chassis"
          ],
          [
           "Engine"
          ],
          [
           "Chassis"
          ],
          [
           "PCB"
          ],
          [
           "Display"
          ],
          [
           "Chassis"
          ],
          [
           "Battery"
          ],
          [
           "PCB"
          ],
          [
           "Chassis"
          ],
          [
           "Display"
          ],
          [
           "Display"
          ],
          [
           "Battery"
          ],
          [
           "Display"
          ],
          [
           "PCB"
          ],
          [
           "PCB"
          ],
          [
           "PCB"
          ],
          [
           "Chassis"
          ],
          [
           "Chassis"
          ],
          [
           "Engine"
          ],
          [
           "Battery"
          ],
          [
           "Battery"
          ],
          [
           "Chassis"
          ],
          [
           "Chassis"
          ],
          [
           "Battery"
          ],
          [
           "Engine"
          ],
          [
           "Battery"
          ],
          [
           "Engine"
          ],
          [
           "Battery"
          ],
          [
           "Engine"
          ],
          [
           "Engine"
          ],
          [
           "Chassis"
          ],
          [
           "Chassis"
          ],
          [
           "Battery"
          ],
          [
           "Display"
          ],
          [
           "Battery"
          ],
          [
           "PCB"
          ],
          [
           "Chassis"
          ],
          [
           "Display"
          ],
          [
           "Battery"
          ],
          [
           "PCB"
          ],
          [
           "Display"
          ],
          [
           "Battery"
          ],
          [
           "Battery"
          ],
          [
           "Display"
          ],
          [
           "Chassis"
          ],
          [
           "Engine"
          ],
          [
           "Battery"
          ],
          [
           "PCB"
          ],
          [
           "Battery"
          ],
          [
           "Battery"
          ],
          [
           "Engine"
          ],
          [
           "Display"
          ],
          [
           "PCB"
          ],
          [
           "Display"
          ],
          [
           "Display"
          ],
          [
           "Engine"
          ],
          [
           "Display"
          ],
          [
           "PCB"
          ],
          [
           "Engine"
          ],
          [
           "PCB"
          ],
          [
           "PCB"
          ],
          [
           "Engine"
          ],
          [
           "Battery"
          ],
          [
           "PCB"
          ],
          [
           "Display"
          ],
          [
           "Battery"
          ],
          [
           "Chassis"
          ],
          [
           "Chassis"
          ],
          [
           "Engine"
          ],
          [
           "Chassis"
          ],
          [
           "PCB"
          ],
          [
           "Engine"
          ],
          [
           "Battery"
          ],
          [
           "Engine"
          ],
          [
           "Engine"
          ],
          [
           "Engine"
          ],
          [
           "PCB"
          ],
          [
           "Chassis"
          ],
          [
           "Display"
          ],
          [
           "PCB"
          ],
          [
           "Display"
          ],
          [
           "PCB"
          ],
          [
           "Battery"
          ],
          [
           "Engine"
          ],
          [
           "Display"
          ],
          [
           "Battery"
          ],
          [
           "Battery"
          ],
          [
           "PCB"
          ],
          [
           "Engine"
          ],
          [
           "Engine"
          ],
          [
           "Battery"
          ],
          [
           "Display"
          ],
          [
           "PCB"
          ],
          [
           "PCB"
          ],
          [
           "PCB"
          ],
          [
           "Engine"
          ],
          [
           "PCB"
          ],
          [
           "Display"
          ],
          [
           "Engine"
          ],
          [
           "Battery"
          ],
          [
           "Battery"
          ],
          [
           "Display"
          ],
          [
           "Display"
          ],
          [
           "Chassis"
          ],
          [
           "Display"
          ],
          [
           "Chassis"
          ],
          [
           "PCB"
          ],
          [
           "PCB"
          ],
          [
           "Chassis"
          ],
          [
           "Battery"
          ],
          [
           "Engine"
          ],
          [
           "Engine"
          ],
          [
           "Chassis"
          ],
          [
           "Display"
          ],
          [
           "Engine"
          ],
          [
           "Engine"
          ],
          [
           "PCB"
          ],
          [
           "Display"
          ],
          [
           "Engine"
          ],
          [
           "Engine"
          ],
          [
           "Engine"
          ],
          [
           "Chassis"
          ],
          [
           "Engine"
          ],
          [
           "Display"
          ],
          [
           "Battery"
          ],
          [
           "Engine"
          ],
          [
           "PCB"
          ],
          [
           "PCB"
          ],
          [
           "PCB"
          ],
          [
           "PCB"
          ],
          [
           "PCB"
          ],
          [
           "Engine"
          ],
          [
           "Chassis"
          ],
          [
           "Display"
          ],
          [
           "Engine"
          ],
          [
           "Chassis"
          ],
          [
           "Display"
          ],
          [
           "Display"
          ],
          [
           "PCB"
          ],
          [
           "Display"
          ],
          [
           "Display"
          ],
          [
           "Chassis"
          ],
          [
           "Engine"
          ],
          [
           "PCB"
          ],
          [
           "Battery"
          ],
          [
           "PCB"
          ],
          [
           "Battery"
          ],
          [
           "Engine"
          ],
          [
           "Engine"
          ],
          [
           "PCB"
          ],
          [
           "Display"
          ],
          [
           "PCB"
          ],
          [
           "Battery"
          ],
          [
           "Engine"
          ],
          [
           "Chassis"
          ],
          [
           "Chassis"
          ],
          [
           "Battery"
          ],
          [
           "Display"
          ],
          [
           "Chassis"
          ],
          [
           "Battery"
          ],
          [
           "Display"
          ],
          [
           "Display"
          ],
          [
           "Chassis"
          ],
          [
           "PCB"
          ],
          [
           "Display"
          ],
          [
           "Engine"
          ],
          [
           "PCB"
          ],
          [
           "Battery"
          ],
          [
           "Display"
          ],
          [
           "Battery"
          ],
          [
           "Engine"
          ],
          [
           "Battery"
          ],
          [
           "Engine"
          ],
          [
           "PCB"
          ],
          [
           "Battery"
          ],
          [
           "Engine"
          ],
          [
           "Display"
          ],
          [
           "Battery"
          ],
          [
           "Display"
          ],
          [
           "Engine"
          ],
          [
           "PCB"
          ],
          [
           "Display"
          ],
          [
           "Chassis"
          ],
          [
           "Engine"
          ],
          [
           "PCB"
          ],
          [
           "Display"
          ],
          [
           "Battery"
          ],
          [
           "Chassis"
          ],
          [
           "Chassis"
          ],
          [
           "PCB"
          ],
          [
           "PCB"
          ],
          [
           "PCB"
          ],
          [
           "Engine"
          ],
          [
           "Engine"
          ],
          [
           "PCB"
          ],
          [
           "Engine"
          ],
          [
           "PCB"
          ],
          [
           "Display"
          ],
          [
           "Chassis"
          ],
          [
           "Chassis"
          ],
          [
           "PCB"
          ],
          [
           "Engine"
          ],
          [
           "Display"
          ],
          [
           "Engine"
          ],
          [
           "PCB"
          ],
          [
           "PCB"
          ],
          [
           "Battery"
          ],
          [
           "Display"
          ],
          [
           "Battery"
          ],
          [
           "Battery"
          ],
          [
           "Display"
          ],
          [
           "PCB"
          ],
          [
           "PCB"
          ],
          [
           "Display"
          ],
          [
           "Chassis"
          ],
          [
           "PCB"
          ],
          [
           "Battery"
          ],
          [
           "Chassis"
          ],
          [
           "Display"
          ],
          [
           "Battery"
          ],
          [
           "Battery"
          ],
          [
           "PCB"
          ],
          [
           "PCB"
          ],
          [
           "Chassis"
          ],
          [
           "Display"
          ],
          [
           "Chassis"
          ],
          [
           "Engine"
          ],
          [
           "Chassis"
          ],
          [
           "Display"
          ],
          [
           "Chassis"
          ],
          [
           "Display"
          ],
          [
           "Engine"
          ],
          [
           "PCB"
          ],
          [
           "Display"
          ],
          [
           "Display"
          ],
          [
           "Chassis"
          ],
          [
           "PCB"
          ],
          [
           "Chassis"
          ],
          [
           "Display"
          ],
          [
           "Display"
          ],
          [
           "PCB"
          ],
          [
           "Battery"
          ],
          [
           "Engine"
          ],
          [
           "PCB"
          ],
          [
           "Engine"
          ],
          [
           "Display"
          ],
          [
           "Battery"
          ],
          [
           "PCB"
          ],
          [
           "PCB"
          ],
          [
           "Engine"
          ],
          [
           "Engine"
          ],
          [
           "Battery"
          ],
          [
           "Display"
          ],
          [
           "PCB"
          ],
          [
           "Battery"
          ],
          [
           "Chassis"
          ],
          [
           "Display"
          ],
          [
           "Display"
          ],
          [
           "Engine"
          ],
          [
           "PCB"
          ],
          [
           "Chassis"
          ],
          [
           "Engine"
          ],
          [
           "PCB"
          ],
          [
           "PCB"
          ],
          [
           "Engine"
          ],
          [
           "PCB"
          ],
          [
           "Display"
          ],
          [
           "Engine"
          ],
          [
           "Chassis"
          ],
          [
           "Display"
          ],
          [
           "Battery"
          ],
          [
           "Display"
          ],
          [
           "Battery"
          ],
          [
           "Battery"
          ],
          [
           "PCB"
          ],
          [
           "Engine"
          ],
          [
           "Engine"
          ],
          [
           "Battery"
          ],
          [
           "Chassis"
          ],
          [
           "PCB"
          ],
          [
           "Engine"
          ],
          [
           "Battery"
          ],
          [
           "Chassis"
          ],
          [
           "Chassis"
          ],
          [
           "Battery"
          ],
          [
           "Battery"
          ],
          [
           "Battery"
          ],
          [
           "Chassis"
          ],
          [
           "PCB"
          ],
          [
           "Display"
          ],
          [
           "Chassis"
          ],
          [
           "Engine"
          ],
          [
           "Display"
          ],
          [
           "Engine"
          ],
          [
           "Display"
          ],
          [
           "Battery"
          ],
          [
           "PCB"
          ],
          [
           "Display"
          ],
          [
           "Display"
          ],
          [
           "PCB"
          ],
          [
           "PCB"
          ],
          [
           "Display"
          ],
          [
           "Chassis"
          ],
          [
           "PCB"
          ],
          [
           "Engine"
          ],
          [
           "Battery"
          ],
          [
           "PCB"
          ],
          [
           "Chassis"
          ],
          [
           "PCB"
          ],
          [
           "PCB"
          ],
          [
           "Chassis"
          ],
          [
           "Chassis"
          ],
          [
           "Engine"
          ],
          [
           "Chassis"
          ],
          [
           "Display"
          ],
          [
           "Engine"
          ],
          [
           "Display"
          ],
          [
           "Engine"
          ],
          [
           "PCB"
          ],
          [
           "Engine"
          ],
          [
           "Chassis"
          ],
          [
           "Chassis"
          ],
          [
           "Battery"
          ],
          [
           "Chassis"
          ],
          [
           "Engine"
          ],
          [
           "Engine"
          ],
          [
           "Display"
          ],
          [
           "Chassis"
          ],
          [
           "Battery"
          ],
          [
           "Battery"
          ],
          [
           "Battery"
          ],
          [
           "Battery"
          ],
          [
           "Battery"
          ],
          [
           "Battery"
          ],
          [
           "Battery"
          ],
          [
           "Engine"
          ],
          [
           "PCB"
          ],
          [
           "Engine"
          ],
          [
           "PCB"
          ],
          [
           "Chassis"
          ],
          [
           "PCB"
          ],
          [
           "Battery"
          ],
          [
           "Chassis"
          ],
          [
           "Chassis"
          ],
          [
           "Engine"
          ],
          [
           "Chassis"
          ],
          [
           "Display"
          ],
          [
           "Chassis"
          ],
          [
           "Chassis"
          ],
          [
           "Battery"
          ],
          [
           "Display"
          ],
          [
           "Display"
          ],
          [
           "Display"
          ],
          [
           "Chassis"
          ],
          [
           "Display"
          ],
          [
           "Chassis"
          ],
          [
           "Chassis"
          ],
          [
           "Chassis"
          ],
          [
           "Display"
          ],
          [
           "Display"
          ],
          [
           "Chassis"
          ],
          [
           "PCB"
          ],
          [
           "Display"
          ],
          [
           "Engine"
          ],
          [
           "Battery"
          ],
          [
           "Chassis"
          ],
          [
           "Battery"
          ],
          [
           "Display"
          ],
          [
           "Battery"
          ],
          [
           "PCB"
          ],
          [
           "Engine"
          ],
          [
           "Chassis"
          ],
          [
           "Battery"
          ],
          [
           "Display"
          ],
          [
           "Engine"
          ],
          [
           "Chassis"
          ],
          [
           "Battery"
          ],
          [
           "Battery"
          ],
          [
           "Chassis"
          ],
          [
           "Display"
          ],
          [
           "PCB"
          ],
          [
           "Engine"
          ],
          [
           "Engine"
          ],
          [
           "Chassis"
          ],
          [
           "Engine"
          ],
          [
           "Display"
          ],
          [
           "Display"
          ],
          [
           "Engine"
          ],
          [
           "Engine"
          ],
          [
           "Display"
          ],
          [
           "Battery"
          ],
          [
           "Chassis"
          ],
          [
           "Chassis"
          ],
          [
           "Display"
          ],
          [
           "Display"
          ],
          [
           "Engine"
          ],
          [
           "Chassis"
          ],
          [
           "Battery"
          ],
          [
           "Engine"
          ],
          [
           "Engine"
          ],
          [
           "Display"
          ],
          [
           "Display"
          ],
          [
           "Display"
          ],
          [
           "Display"
          ],
          [
           "Battery"
          ],
          [
           "Display"
          ],
          [
           "PCB"
          ],
          [
           "Engine"
          ],
          [
           "Chassis"
          ],
          [
           "Battery"
          ],
          [
           "PCB"
          ],
          [
           "Chassis"
          ],
          [
           "Engine"
          ],
          [
           "Engine"
          ],
          [
           "PCB"
          ],
          [
           "PCB"
          ],
          [
           "Battery"
          ],
          [
           "Engine"
          ],
          [
           "Chassis"
          ],
          [
           "Display"
          ],
          [
           "Battery"
          ],
          [
           "Chassis"
          ],
          [
           "PCB"
          ],
          [
           "Battery"
          ],
          [
           "Chassis"
          ],
          [
           "PCB"
          ],
          [
           "Display"
          ],
          [
           "Chassis"
          ],
          [
           "Chassis"
          ],
          [
           "PCB"
          ],
          [
           "Display"
          ],
          [
           "PCB"
          ],
          [
           "Chassis"
          ],
          [
           "PCB"
          ],
          [
           "Chassis"
          ],
          [
           "Engine"
          ],
          [
           "Display"
          ],
          [
           "Battery"
          ],
          [
           "PCB"
          ],
          [
           "Battery"
          ],
          [
           "Battery"
          ],
          [
           "Engine"
          ],
          [
           "Chassis"
          ],
          [
           "PCB"
          ],
          [
           "Display"
          ],
          [
           "Chassis"
          ],
          [
           "Engine"
          ],
          [
           "Battery"
          ],
          [
           "Battery"
          ],
          [
           "Engine"
          ],
          [
           "Display"
          ],
          [
           "Battery"
          ],
          [
           "Battery"
          ],
          [
           "Chassis"
          ],
          [
           "Battery"
          ],
          [
           "Chassis"
          ],
          [
           "Battery"
          ],
          [
           "Battery"
          ],
          [
           "Display"
          ],
          [
           "PCB"
          ],
          [
           "Chassis"
          ],
          [
           "Battery"
          ],
          [
           "Engine"
          ]
         ],
         "hovertemplate": "Change_Type=Process<br>Change_Complexity=%{x}<br>Approval_Time_Days=%{y}<br>Parts_Affected=%{marker.size}<br>Product_Type=%{customdata[0]}<extra></extra>",
         "legendgroup": "Process",
         "marker": {
          "color": "#636efa",
          "size": {
           "bdata": "CgcIBA4JDAsNCwYGAxEBDggUDA4NERAOEAUKCQYGBwYIDRAIBQUKCAoTEA0GCwwQBhAPBgwOEgURCggDCAYSCRAOCgoNCxIIBg0CDgkOBgYPCQ0ECREDAwwLCQ8FDQUQDAkGCREIEgoEEQ8OAQIKBgwPAgMHAQcKCBAGCg0HDAgOEAQOEQcPCREDDQsJDhINFgQPBgoRCwcDBwoEBw8HEQUCEAgHCgYTCg8OBgsECA0PDQ0CDQcGCgYLDQQFEgAKDgoFCxAGBgwUCRQQCw0PCBACEQ4GBg0MBQ0CCw8PDAYKBRQNCQwGDQcIFAUTBwkGAwYLBgcPAxQCCAUNFAgNEwcCCwkBCgoHEAYIBg8JDw0KCgwJAwwKCA8JBgQNCg8HDQ0LEAUNDBUCCwsPDQsMDAQNBxASDQkOCBEMAgoNBBAIDwQPBwgEBAYHAwQJAgsQCAYHBgsKCwsIBw8IDwsRCgMPCQ0MBQoGBgIQCgUGDgQWCQcGBAsQCAoLExEGDQMJAgYNBQQNDQkLCQYECA4GEwsHBQYSDRAMDgkPCgQGCQcJBAoJCBMHCQsKDQsFAgoRDgsNCQISEQkMBwQQCA4LDA0MEAIHBgcEChMMEwkJCQ8GDRMLCggJEQcFDggJBQwHCwQOEQ8KCg8NDAYGEQ8FDQwHCg0LEAgJCgEHAwoGCwwMCgcODwwGCAYEBgMHCQMICA8RBw0PEg0EBAkLAwYJEQYKCAkODw8NCwYLCBQODQoQDggFDw8LBREKEwYUCAsGAgoQBg0REggHBQoIEQgDBgIODgwJCgsQBgcDBQwICAwHCAUFBw0SCQwEDQoUBgwHExEGCQgPDg8RAw8RDgwGDwgJDgcTBgMLDAgPDAYGBw4GBQcGEAgSBwcJBgwFCQMKDwYFCwkLDw0NBQsOCA8ICQgMCwQOBw==",
           "dtype": "i1"
          },
          "sizemode": "area",
          "sizeref": 0.055,
          "symbol": "circle"
         },
         "mode": "markers",
         "name": "Process",
         "showlegend": true,
         "type": "scattergl",
         "x": {
          "bdata": "AwUFBgYBBgEDAwYFBAoGBwoJBAEFCgQBCQgCBAEGBAUBCgoGBggJBgcFBAYDBgUKAggCCQMKBgUHBQoHCgYGAwgIBQgCBQgJAgkECQYFAwIKBwIDCAkBAwYIAgcBAwMICAcKAQYDBwgDAQUGAQIJAgYGAgECAQQIAQkHAwoIBwICBQcKCQgJBQIECAkFBAkHBgcHCQoKBwYDBgYEBwcIBAMEBggGCAMGAwYEAwEGCgECBAkBBQQBAgICAwEGCQEFBAIBCgcFAwkJCQIGBgIBBAICCAgCBgcKAgcDCgIECgYFCggGBAYBCAcBBwYDCAMBAQUGBQcHAgoCAQYCBgEECQEDAwIBBwMKAgcGBwoKBAEKAwIKAgIHAQUGCQEIBQkIBAEFCgEEBQkBBAgJCgoBAgMBBwoECggKAQoEAwQKAgoBBQQICgkCBAMGAgUDBAUDBQgGCAoHBwoBAwcECgUKBgMJCQIIBQYFBgIECAcKAwYKCAUJBAoKCQIJCAECAgQGAggEAwUDBwUJBgIFCgoIBQIIBwQFAQcECAUKBgIKBgQHCQgFAwYDBgQDBQMHAgUKAQcDBgEJBwIICAIIAQkEBAkEAQMHCQUCBwoKCgEHBQQGAwEICQEFBwQGCAkKCAYBAQMHCgkFBggEAwgFAgoJAwEIAwgDBAcGAgIHAgYJCAIFBAIBCQIBAwIGCgIGBQMDCAIKCAQJCAQDBAkIAwEECgYHBQQBCQYDBQgKCgMGCQQJAgIJBwcGBgYBBQYKCgIBAgkHBgUFCgcEAwEGAgIDAgIJAgIEBgYFBgoFAQMIBQYKCAUGCAMFCAgGCgMJAQoECgIBBgoICgQBAwoFCgkHBwMBCgIJBAQIAwkDCAUEBAQEBQICBAYFBAEKAwQDAwIFCgEJAQQJCQIJBggECQEDAgoJBgQHAQ==",
          "dtype": "i1"
         },
         "xaxis": "x",
         "y": {
          "bdata": "DhATEA8CDwsPEREVDxELEA4YCQUPHAoGFhAFDQsMCAsOFhUWChgWCgwNDhQMCg0WCRkBEwkQDxISEBoLEA8TDRcHDhcHEg4XDg4NGBINDQ4QEAQNGBcNEg8LABEKDQYPGQ4YDAwNGA8MBhIPAQgPAxQRFAoJBQ4SBhYYBhMPDQQIEBIZDgwUFwoOFxYQDQ8OFQ0QFxITEREPEhAMEBARCQgKExEOEQINCAkWCgkRFQgQCBMHEg4IDAQMDAQLEwkLDQcODQsKBhEQGQkTCBIHDQsKEhMPBQsVDxAKFQYQExMJExIREBUHDRMIExEMEQMGCRESDAwSDRcNCBQNFAcNFw0KDQoSFAQUBxkVDhIUEwQQDAcbDwsRDg4UEAYXCRcOCgkLDwQMBRcEDRARFxIHCBAHEhMJERUcCBYLDA4YCREMFQ4NFw8GCg4YBAoNEgsKDgwPEBgQDA4BEBUUFQoVGwoHFg4RDRAJDw0OFg8REg8cEgoPDRMeEw8aDAkECQoNBwwRBgsJEhISCAwQEw0WCwoPFwoHBg4MEgoZDAcSGAcQGRcODg0LDA0LCREXBA0RBhUKDg0PFgYOGQoTBBALDRcOCQoTGBULERUUEA0SDAkOCQsNEwgKEBAREBEbCw4KCRUQExgSExIQDxINDxgNCxATDwkNBxUNAgsVDhEPEhAOEQgIEAgMBw0LHQwMDgULFggYEhEbEwoIDRQQBwQMGg4MChICDw4PDRIPDwoHFQwbDAoRFxcQCxAMDxIVFAUGBw8SGBQTGhELBgkLBwsQBQwSBwkRFQsTEBAJBAgRERQUExINEw8REhIVEQ0SCxYNFAgICRMYGAUNDhQFFhsSDA4FFwwODg8WBRELFw4NDA0GFw4KBw8VDAsUBAoRDAgODgwVDA0UEQsUERcNEAgRBRkXFAsQBg==",
          "dtype": "i1"
         },
         "yaxis": "y"
        },
        {
         "customdata": [
          [
           "Display"
          ],
          [
           "Battery"
          ],
          [
           "Display"
          ],
          [
           "Chassis"
          ],
          [
           "Display"
          ],
          [
           "Chassis"
          ],
          [
           "Battery"
          ],
          [
           "Engine"
          ],
          [
           "Battery"
          ],
          [
           "Display"
          ],
          [
           "Chassis"
          ],
          [
           "Engine"
          ],
          [
           "PCB"
          ],
          [
           "Battery"
          ],
          [
           "Chassis"
          ],
          [
           "Engine"
          ],
          [
           "Chassis"
          ],
          [
           "Battery"
          ],
          [
           "Battery"
          ],
          [
           "Chassis"
          ],
          [
           "Chassis"
          ],
          [
           "Engine"
          ],
          [
           "Display"
          ],
          [
           "Battery"
          ],
          [
           "Chassis"
          ],
          [
           "Battery"
          ],
          [
           "Engine"
          ],
          [
           "Display"
          ],
          [
           "Engine"
          ],
          [
           "Display"
          ],
          [
           "Engine"
          ],
          [
           "Engine"
          ],
          [
           "Chassis"
          ],
          [
           "PCB"
          ],
          [
           "Engine"
          ],
          [
           "PCB"
          ],
          [
           "Engine"
          ],
          [
           "Engine"
          ],
          [
           "PCB"
          ],
          [
           "PCB"
          ],
          [
           "PCB"
          ],
          [
           "Display"
          ],
          [
           "PCB"
          ],
          [
           "Engine"
          ],
          [
           "Display"
          ],
          [
           "Engine"
          ],
          [
           "Battery"
          ],
          [
           "Display"
          ],
          [
           "Engine"
          ],
          [
           "Display"
          ],
          [
           "Chassis"
          ],
          [
           "Chassis"
          ],
          [
           "Battery"
          ],
          [
           "Display"
          ],
          [
           "Chassis"
          ],
          [
           "PCB"
          ],
          [
           "Battery"
          ],
          [
           "Chassis"
          ],
          [
           "Engine"
          ],
          [
           "Engine"
          ],
          [
           "Engine"
          ],
          [
           "Chassis"
          ],
          [
           "Engine"
          ],
          [
           "Chassis"
          ],
          [
           "Engine"
          ],
          [
           "Engine"
          ],
          [
           "PCB"
          ],
          [
           "Battery"
          ],
          [
           "Chassis"
          ],
          [
           "Engine"
          ],
          [
           "PCB"
          ],
          [
           "Battery"
          ],
          [
           "Display"
          ],
          [
           "Battery"
          ],
          [
           "PCB"
          ],
          [
           "Chassis"
          ],
          [
           "Engine"
          ],
          [
           "Chassis"
          ],
          [
           "Chassis"
          ],
          [
           "Engine"
          ],
          [
           "Engine"
          ],
          [
           "Chassis"
          ],
          [
           "Engine"
          ],
          [
           "Battery"
          ],
          [
           "Chassis"
          ],
          [
           "Chassis"
          ],
          [
           "Battery"
          ],
          [
           "Engine"
          ],
          [
           "Display"
          ],
          [
           "PCB"
          ],
          [
           "Engine"
          ],
          [
           "Chassis"
          ],
          [
           "Battery"
          ],
          [
           "Engine"
          ],
          [
           "PCB"
          ],
          [
           "PCB"
          ],
          [
           "PCB"
          ],
          [
           "Display"
          ],
          [
           "Display"
          ],
          [
           "Chassis"
          ],
          [
           "Chassis"
          ],
          [
           "Engine"
          ],
          [
           "Display"
          ],
          [
           "Display"
          ],
          [
           "Engine"
          ],
          [
           "Display"
          ],
          [
           "PCB"
          ],
          [
           "Chassis"
          ],
          [
           "Chassis"
          ],
          [
           "Display"
          ],
          [
           "Engine"
          ],
          [
           "Battery"
          ],
          [
           "Engine"
          ],
          [
           "Battery"
          ],
          [
           "PCB"
          ],
          [
           "Battery"
          ],
          [
           "Battery"
          ],
          [
           "Display"
          ],
          [
           "Chassis"
          ],
          [
           "Chassis"
          ],
          [
           "Engine"
          ],
          [
           "Chassis"
          ],
          [
           "Battery"
          ],
          [
           "PCB"
          ],
          [
           "Battery"
          ],
          [
           "Engine"
          ],
          [
           "Battery"
          ],
          [
           "Engine"
          ],
          [
           "Display"
          ],
          [
           "PCB"
          ],
          [
           "Battery"
          ],
          [
           "Battery"
          ],
          [
           "Engine"
          ],
          [
           "Battery"
          ],
          [
           "Display"
          ],
          [
           "Display"
          ],
          [
           "Display"
          ],
          [
           "PCB"
          ],
          [
           "Chassis"
          ],
          [
           "Display"
          ],
          [
           "Display"
          ],
          [
           "Battery"
          ],
          [
           "Chassis"
          ],
          [
           "Battery"
          ],
          [
           "Battery"
          ],
          [
           "Display"
          ],
          [
           "PCB"
          ],
          [
           "Chassis"
          ],
          [
           "PCB"
          ],
          [
           "Chassis"
          ],
          [
           "Engine"
          ],
          [
           "Engine"
          ],
          [
           "PCB"
          ],
          [
           "PCB"
          ],
          [
           "PCB"
          ],
          [
           "Chassis"
          ],
          [
           "Battery"
          ],
          [
           "Display"
          ],
          [
           "PCB"
          ],
          [
           "Engine"
          ],
          [
           "Battery"
          ],
          [
           "Battery"
          ],
          [
           "Engine"
          ],
          [
           "Battery"
          ],
          [
           "Display"
          ],
          [
           "PCB"
          ],
          [
           "Display"
          ],
          [
           "Chassis"
          ],
          [
           "Display"
          ],
          [
           "Display"
          ],
          [
           "PCB"
          ],
          [
           "Chassis"
          ],
          [
           "Chassis"
          ],
          [
           "Engine"
          ],
          [
           "PCB"
          ],
          [
           "Engine"
          ],
          [
           "Chassis"
          ],
          [
           "PCB"
          ],
          [
           "Engine"
          ],
          [
           "Chassis"
          ],
          [
           "Engine"
          ],
          [
           "PCB"
          ],
          [
           "Display"
          ],
          [
           "Display"
          ],
          [
           "Battery"
          ],
          [
           "Chassis"
          ],
          [
           "Display"
          ],
          [
           "Battery"
          ],
          [
           "Display"
          ],
          [
           "Display"
          ],
          [
           "Engine"
          ],
          [
           "Engine"
          ],
          [
           "Display"
          ],
          [
           "Chassis"
          ],
          [
           "Chassis"
          ],
          [
           "PCB"
          ],
          [
           "Display"
          ],
          [
           "Chassis"
          ],
          [
           "Battery"
          ],
          [
           "PCB"
          ],
          [
           "Display"
          ],
          [
           "Battery"
          ],
          [
           "Chassis"
          ],
          [
           "Engine"
          ],
          [
           "Engine"
          ],
          [
           "PCB"
          ],
          [
           "Chassis"
          ],
          [
           "Chassis"
          ],
          [
           "Engine"
          ],
          [
           "Battery"
          ],
          [
           "Chassis"
          ],
          [
           "Display"
          ],
          [
           "Display"
          ],
          [
           "PCB"
          ],
          [
           "Chassis"
          ],
          [
           "Display"
          ],
          [
           "PCB"
          ],
          [
           "Battery"
          ],
          [
           "Engine"
          ],
          [
           "PCB"
          ],
          [
           "Chassis"
          ],
          [
           "Display"
          ],
          [
           "Chassis"
          ],
          [
           "Display"
          ],
          [
           "Chassis"
          ],
          [
           "PCB"
          ],
          [
           "Engine"
          ],
          [
           "Display"
          ],
          [
           "Chassis"
          ],
          [
           "Display"
          ],
          [
           "Display"
          ],
          [
           "PCB"
          ],
          [
           "PCB"
          ],
          [
           "Engine"
          ],
          [
           "Engine"
          ],
          [
           "PCB"
          ],
          [
           "Chassis"
          ],
          [
           "Engine"
          ],
          [
           "Display"
          ],
          [
           "Display"
          ],
          [
           "Battery"
          ],
          [
           "Engine"
          ],
          [
           "Engine"
          ],
          [
           "Display"
          ],
          [
           "Engine"
          ],
          [
           "Battery"
          ],
          [
           "Battery"
          ],
          [
           "Chassis"
          ],
          [
           "Engine"
          ],
          [
           "Engine"
          ],
          [
           "Engine"
          ],
          [
           "Battery"
          ],
          [
           "Chassis"
          ],
          [
           "Engine"
          ],
          [
           "Battery"
          ],
          [
           "Engine"
          ],
          [
           "Chassis"
          ],
          [
           "Display"
          ],
          [
           "Battery"
          ],
          [
           "Engine"
          ],
          [
           "PCB"
          ],
          [
           "Display"
          ],
          [
           "Battery"
          ],
          [
           "Display"
          ],
          [
           "Display"
          ],
          [
           "Display"
          ],
          [
           "Battery"
          ],
          [
           "Display"
          ],
          [
           "Battery"
          ],
          [
           "Battery"
          ],
          [
           "Engine"
          ],
          [
           "PCB"
          ],
          [
           "Chassis"
          ],
          [
           "PCB"
          ],
          [
           "Battery"
          ],
          [
           "PCB"
          ],
          [
           "PCB"
          ],
          [
           "PCB"
          ],
          [
           "Battery"
          ],
          [
           "Chassis"
          ],
          [
           "Engine"
          ],
          [
           "Engine"
          ],
          [
           "Display"
          ],
          [
           "Battery"
          ],
          [
           "Engine"
          ],
          [
           "Chassis"
          ],
          [
           "PCB"
          ],
          [
           "Battery"
          ],
          [
           "PCB"
          ],
          [
           "Chassis"
          ],
          [
           "PCB"
          ],
          [
           "Display"
          ],
          [
           "Chassis"
          ],
          [
           "Chassis"
          ],
          [
           "Battery"
          ],
          [
           "Chassis"
          ],
          [
           "PCB"
          ],
          [
           "Engine"
          ],
          [
           "Chassis"
          ],
          [
           "Engine"
          ],
          [
           "Display"
          ],
          [
           "PCB"
          ],
          [
           "Chassis"
          ],
          [
           "Battery"
          ],
          [
           "Display"
          ],
          [
           "Display"
          ],
          [
           "PCB"
          ],
          [
           "Battery"
          ],
          [
           "Chassis"
          ],
          [
           "Display"
          ],
          [
           "Display"
          ],
          [
           "Chassis"
          ],
          [
           "Engine"
          ],
          [
           "Display"
          ],
          [
           "Engine"
          ],
          [
           "Engine"
          ],
          [
           "PCB"
          ],
          [
           "Battery"
          ],
          [
           "Chassis"
          ],
          [
           "Chassis"
          ],
          [
           "Display"
          ],
          [
           "Display"
          ],
          [
           "Chassis"
          ],
          [
           "Display"
          ],
          [
           "Chassis"
          ],
          [
           "PCB"
          ],
          [
           "Chassis"
          ],
          [
           "Battery"
          ],
          [
           "PCB"
          ],
          [
           "PCB"
          ],
          [
           "Chassis"
          ],
          [
           "Chassis"
          ],
          [
           "Battery"
          ],
          [
           "PCB"
          ],
          [
           "Display"
          ],
          [
           "Chassis"
          ],
          [
           "Engine"
          ],
          [
           "PCB"
          ],
          [
           "Display"
          ],
          [
           "PCB"
          ],
          [
           "Chassis"
          ],
          [
           "Engine"
          ],
          [
           "Battery"
          ],
          [
           "PCB"
          ],
          [
           "Battery"
          ],
          [
           "Chassis"
          ],
          [
           "Engine"
          ],
          [
           "Display"
          ],
          [
           "PCB"
          ],
          [
           "Battery"
          ],
          [
           "Chassis"
          ],
          [
           "Battery"
          ],
          [
           "Engine"
          ],
          [
           "Chassis"
          ],
          [
           "Engine"
          ],
          [
           "Engine"
          ],
          [
           "Display"
          ],
          [
           "PCB"
          ],
          [
           "Battery"
          ],
          [
           "Battery"
          ],
          [
           "Battery"
          ],
          [
           "Chassis"
          ],
          [
           "Chassis"
          ],
          [
           "Display"
          ],
          [
           "Engine"
          ],
          [
           "Display"
          ],
          [
           "Engine"
          ],
          [
           "Chassis"
          ],
          [
           "Chassis"
          ],
          [
           "Chassis"
          ],
          [
           "Display"
          ],
          [
           "Battery"
          ],
          [
           "Battery"
          ],
          [
           "Display"
          ],
          [
           "PCB"
          ],
          [
           "Display"
          ],
          [
           "PCB"
          ],
          [
           "Battery"
          ],
          [
           "PCB"
          ],
          [
           "Chassis"
          ],
          [
           "Chassis"
          ],
          [
           "Chassis"
          ],
          [
           "Battery"
          ],
          [
           "Engine"
          ],
          [
           "Battery"
          ],
          [
           "Engine"
          ],
          [
           "Battery"
          ],
          [
           "Engine"
          ],
          [
           "Chassis"
          ],
          [
           "Display"
          ],
          [
           "Display"
          ],
          [
           "PCB"
          ],
          [
           "Battery"
          ],
          [
           "Chassis"
          ],
          [
           "Display"
          ],
          [
           "Battery"
          ],
          [
           "Chassis"
          ],
          [
           "Battery"
          ],
          [
           "Display"
          ],
          [
           "PCB"
          ],
          [
           "Battery"
          ],
          [
           "Display"
          ],
          [
           "Battery"
          ],
          [
           "Battery"
          ],
          [
           "Chassis"
          ],
          [
           "PCB"
          ],
          [
           "Battery"
          ],
          [
           "PCB"
          ],
          [
           "PCB"
          ],
          [
           "PCB"
          ],
          [
           "Battery"
          ],
          [
           "PCB"
          ],
          [
           "Battery"
          ],
          [
           "Display"
          ],
          [
           "Engine"
          ],
          [
           "Engine"
          ],
          [
           "Display"
          ],
          [
           "Chassis"
          ],
          [
           "Battery"
          ],
          [
           "PCB"
          ],
          [
           "Battery"
          ],
          [
           "Engine"
          ],
          [
           "Battery"
          ],
          [
           "Engine"
          ],
          [
           "Engine"
          ],
          [
           "Battery"
          ],
          [
           "Display"
          ],
          [
           "PCB"
          ],
          [
           "Engine"
          ],
          [
           "Battery"
          ],
          [
           "PCB"
          ],
          [
           "Display"
          ],
          [
           "Battery"
          ],
          [
           "Engine"
          ],
          [
           "Chassis"
          ],
          [
           "Engine"
          ],
          [
           "Battery"
          ],
          [
           "PCB"
          ],
          [
           "Battery"
          ],
          [
           "PCB"
          ],
          [
           "Display"
          ],
          [
           "Engine"
          ],
          [
           "Battery"
          ],
          [
           "Engine"
          ],
          [
           "Engine"
          ],
          [
           "Engine"
          ],
          [
           "Display"
          ],
          [
           "Battery"
          ],
          [
           "Battery"
          ],
          [
           "Engine"
          ],
          [
           "Display"
          ],
          [
           "Engine"
          ],
          [
           "Engine"
          ],
          [
           "Chassis"
          ],
          [
           "PCB"
          ],
          [
           "Display"
          ],
          [
           "Battery"
          ],
          [
           "PCB"
          ],
          [
           "PCB"
          ],
          [
           "Engine"
          ],
          [
           "Battery"
          ],
          [
           "Battery"
          ],
          [
           "Display"
          ],
          [
           "Display"
          ],
          [
           "Engine"
          ],
          [
           "Engine"
          ],
          [
           "PCB"
          ],
          [
           "Battery"
          ],
          [
           "PCB"
          ],
          [
           "Display"
          ],
          [
           "Engine"
          ],
          [
           "Chassis"
          ],
          [
           "Battery"
          ],
          [
           "Engine"
          ],
          [
           "PCB"
          ],
          [
           "Chassis"
          ],
          [
           "Engine"
          ],
          [
           "Engine"
          ],
          [
           "PCB"
          ],
          [
           "Chassis"
          ],
          [
           "Battery"
          ],
          [
           "Display"
          ],
          [
           "Display"
          ],
          [
           "Battery"
          ],
          [
           "PCB"
          ],
          [
           "Display"
          ],
          [
           "Display"
          ],
          [
           "Battery"
          ],
          [
           "Chassis"
          ],
          [
           "PCB"
          ],
          [
           "Display"
          ],
          [
           "Engine"
          ],
          [
           "PCB"
          ],
          [
           "Display"
          ],
          [
           "Battery"
          ],
          [
           "Display"
          ],
          [
           "PCB"
          ],
          [
           "Display"
          ],
          [
           "Display"
          ],
          [
           "Engine"
          ],
          [
           "Chassis"
          ],
          [
           "Engine"
          ],
          [
           "Battery"
          ],
          [
           "Display"
          ],
          [
           "PCB"
          ],
          [
           "Display"
          ],
          [
           "Battery"
          ],
          [
           "Battery"
          ],
          [
           "Display"
          ],
          [
           "PCB"
          ],
          [
           "Chassis"
          ],
          [
           "Chassis"
          ],
          [
           "Chassis"
          ],
          [
           "Display"
          ],
          [
           "Engine"
          ],
          [
           "PCB"
          ],
          [
           "Battery"
          ],
          [
           "Battery"
          ],
          [
           "Display"
          ],
          [
           "Chassis"
          ],
          [
           "Chassis"
          ],
          [
           "Engine"
          ],
          [
           "Display"
          ],
          [
           "Battery"
          ],
          [
           "Chassis"
          ],
          [
           "Engine"
          ],
          [
           "Engine"
          ],
          [
           "Display"
          ],
          [
           "Battery"
          ],
          [
           "Display"
          ],
          [
           "Battery"
          ],
          [
           "Display"
          ],
          [
           "PCB"
          ],
          [
           "Engine"
          ],
          [
           "Battery"
          ],
          [
           "Engine"
          ],
          [
           "PCB"
          ],
          [
           "PCB"
          ],
          [
           "Engine"
          ],
          [
           "Engine"
          ],
          [
           "Battery"
          ],
          [
           "Chassis"
          ],
          [
           "Chassis"
          ],
          [
           "PCB"
          ],
          [
           "Engine"
          ],
          [
           "Chassis"
          ],
          [
           "Battery"
          ],
          [
           "PCB"
          ],
          [
           "Display"
          ],
          [
           "Battery"
          ],
          [
           "PCB"
          ],
          [
           "Display"
          ],
          [
           "Display"
          ],
          [
           "Display"
          ],
          [
           "PCB"
          ],
          [
           "PCB"
          ],
          [
           "Chassis"
          ],
          [
           "Battery"
          ],
          [
           "Chassis"
          ],
          [
           "Battery"
          ],
          [
           "Engine"
          ],
          [
           "Battery"
          ],
          [
           "Battery"
          ],
          [
           "Battery"
          ],
          [
           "PCB"
          ],
          [
           "PCB"
          ],
          [
           "Battery"
          ],
          [
           "Chassis"
          ],
          [
           "Display"
          ],
          [
           "Engine"
          ],
          [
           "Engine"
          ],
          [
           "Engine"
          ],
          [
           "PCB"
          ],
          [
           "Display"
          ],
          [
           "PCB"
          ],
          [
           "PCB"
          ],
          [
           "Display"
          ],
          [
           "Chassis"
          ],
          [
           "Display"
          ],
          [
           "Engine"
          ],
          [
           "PCB"
          ],
          [
           "Display"
          ],
          [
           "Battery"
          ],
          [
           "Engine"
          ],
          [
           "Display"
          ],
          [
           "Engine"
          ],
          [
           "Display"
          ],
          [
           "PCB"
          ],
          [
           "PCB"
          ],
          [
           "Chassis"
          ],
          [
           "Battery"
          ],
          [
           "PCB"
          ],
          [
           "Engine"
          ],
          [
           "PCB"
          ],
          [
           "Battery"
          ],
          [
           "Battery"
          ],
          [
           "Engine"
          ],
          [
           "Display"
          ],
          [
           "Battery"
          ],
          [
           "Battery"
          ],
          [
           "PCB"
          ],
          [
           "Engine"
          ],
          [
           "PCB"
          ],
          [
           "Display"
          ],
          [
           "Display"
          ],
          [
           "Battery"
          ],
          [
           "Engine"
          ],
          [
           "Engine"
          ],
          [
           "Chassis"
          ],
          [
           "Battery"
          ],
          [
           "PCB"
          ],
          [
           "Engine"
          ],
          [
           "PCB"
          ],
          [
           "Engine"
          ],
          [
           "Display"
          ],
          [
           "Display"
          ],
          [
           "Engine"
          ],
          [
           "Engine"
          ],
          [
           "Battery"
          ],
          [
           "PCB"
          ],
          [
           "Display"
          ],
          [
           "Battery"
          ],
          [
           "Display"
          ],
          [
           "Chassis"
          ],
          [
           "Display"
          ],
          [
           "Display"
          ],
          [
           "Chassis"
          ],
          [
           "Display"
          ],
          [
           "PCB"
          ],
          [
           "Display"
          ],
          [
           "PCB"
          ],
          [
           "Battery"
          ],
          [
           "Chassis"
          ],
          [
           "Chassis"
          ],
          [
           "Display"
          ],
          [
           "Battery"
          ],
          [
           "Battery"
          ],
          [
           "Battery"
          ],
          [
           "Chassis"
          ],
          [
           "Display"
          ],
          [
           "Engine"
          ],
          [
           "Battery"
          ],
          [
           "Chassis"
          ],
          [
           "Chassis"
          ],
          [
           "Engine"
          ],
          [
           "Battery"
          ],
          [
           "Chassis"
          ],
          [
           "Engine"
          ],
          [
           "Display"
          ],
          [
           "Engine"
          ]
         ],
         "hovertemplate": "Change_Type=Design<br>Change_Complexity=%{x}<br>Approval_Time_Days=%{y}<br>Parts_Affected=%{marker.size}<br>Product_Type=%{customdata[0]}<extra></extra>",
         "legendgroup": "Design",
         "marker": {
          "color": "#EF553B",
          "size": {
           "bdata": "DgYIDgsGCgkDBwYREgsTERANEAwLDQsHCwQSCQUTAw8TEAIJEA8NDQYMBQ8LDwYRAwUMEQQGCw8HCw0KEwIGDAsODQYFDQwKCwYJCA4REQMEDxAECQwIEAUBDwwSBQENBQkEEQYNCQsMCgsCBAwODAoHCwcTCBEQCgURBgsSFAYPEBAGBBANDQcDCRILDQwSCwoOBQ0SBQUEEgIPBAQODBMFCAsSEQQKEAMEEQcUChEMCAYQEgwJDxADFQsEDQgIDQcLCwUDBQMKBwkMDAYOCBEIDwoNChQJBhIHBwoRBBMGEwcIDQgNBQMJEQwPCBMEBwcGAwoHBAwIDw4FCA4NBhIBBQMJCgMLCQoIFQ8DCQ4HEQYPAQsMBQQJDRIQDRMKDQwLDAMFBAcDDAMLEAsDEAsJCgUIBgcSBwUHCQsIAQUICBMGAwQODgQDCgINDg0HCQYPBBAJBAgQChIDDhMLChESCgkIDA0GBgYIEwwCBwYKCAkJCxMMCQwJBwkLDgsHBwwFEhARBQcRCQ4HBhIPBgwWCREKBw4OCwwDCgYWCQkLAxQPBgcIBAUNCAMDBgwQCxQFCQsEAQ8JBAwKDQwMEAoGAhIRDwsEBw4JBQQHDgIGCwkLCgQIDAUHCQkRDwkMBAgLCQoHCg8JEQYLDQoPCQ4WDgoMBwkOCwgLCgEIBAYIBw0JDg0MCgcHBQYFEgkHBxIGCwsIEAoNAwYGBwUIBA8MDQgOBxARBAUDCwYECg4TAxAPCQwFDwYKBgQOBQsICRMMDwsJBAcQDAwPCgYNBgYMBAkKBwwNCQgJCAoICg8AEQoBDwYMAgoKCQUEDRYEBAsCCgsMBwwKCQQDBg0MDAcOCxELBQgJAxA=",
           "dtype": "i1"
          },
          "sizemode": "area",
          "sizeref": 0.055,
          "symbol": "circle"
         },
         "mode": "markers",
         "name": "Design",
         "showlegend": true,
         "type": "scattergl",
         "x": {
          "bdata": "BQkJBAQHCgcCCQoJAQQICQcJCgkKAgQEBgMEAgMFBwoJBAICCgoGBQIKAQoFCQUBAgcFAgQBBgoJBwUHBwEKAwMKBAMDBwkFCQcJAQoJAQICCQgEAgYHBQYCAgcHBgEHBgMGBQUJBwUJBwcCAwgKAgQFBQkKCQYIAwMIAwMBCQIGCQkIBAkJCgQDCQcEAwUKBAgHCgcJAgQBBwMKBAUDCAkDAwMBCQYIAgEKCQcHAQoCCgUICAEIBwMECAcCBAkIBAECCQICBwYIAggFBQYFCgECBAIBBwkFBAgKBAYHAgQBCgkGAgoBCAIIBgoBBAkDAwgBAQMHAwoCCgEHBgMKAQoBBwMGCQQBBgMBBwcFBwcHCQcJAQQHAQEJBwYKCQUIAQkBAgUHAgQCCAUHCQoBCggHBAYBBgkJBAEICgIHBAMHBAYFBwUJAwYBAgMBCgkCAwICCgUEBAQKBQcBCgYGBgcKCAMIBwgKBwQHCAUBAwIIBQoEAQoKCQoGAQgCBQMKAgUCBwgJCgQJCgMFBgQKBQkKAQkFBQIKCgUBCgoIBwQFAgkCAQgHBAEHCAMBBwEHCAoHBQUDAgQEAgcFCgYFCAEFAQkBCQIBAQYKBAYFBQIGAwUDBwQFCAcDAggGCgQCAQcHCQUJAgEBCQMBCgEICQMECQQICQUKAgoHBwICAwYBBAEDCgMFCAMIAwkBCQIDAwgHCQgIBQIHAgQJAQgEBgYFBQMGAwIFBwoFAgkDCgEGAQcJBAIGCgUFCggFAgYKBgYKCQQGBwcJBQkJAQUHBAoFCQYGBQoCAQUECQMBAwgCAQQCAgIHAQUHAQYECQoDBgQFAgUHCgUDAQIDBwoFBAcHAQoEAgIEBAU=",
          "dtype": "i1"
         },
         "xaxis": "x",
         "y": {
          "bdata": "CxQZDgsZEBAEEhcSDA8PHBcYFxUOBAwVFwoRDwwLFA4UDwYKFxQXAwoRChcOFg0CBRMNCQgJERYSFA4RFwcTCwwWDg0GERQJDw8VDBUNDQ0REBUICw0HDRUMCQ8RCAsQFAMWEQ0SEgcVERYMBRgaBwcVCRsRERQRCAoPCw4HEQYTFhgXCxQPFA8EFBELChEXDxYSGBMSCwwGFgwVDw8QDhsPDQ4LFQwQDgkPEBYTBhoMFQ0UFgoOFA8QFw0LDBISDQkFFAwFCxEbCBYMFQsNFgcEEAsMDxELChYXDQwRBQ8JFRAKDhQJDwYKFRkCCBUGCxIHDQ0SBhYOFAkXFQYWBxsOFQsPFgsIEwoGERMTEA4OGhQSChAVDggVFA0VEwgOBRQKDAkSDQ0KEhEVGxAGGBQPDRcIEBESDQIXDAUXDwsMEhQQEwcXCBIIAggKExcHCQMKFgwPBw8NChYJExIOERATEQUQEhcYEAoNFxIREQ0RDBoOAxATDBIXCBMHFAUZCxMHExQWGBIYFQoKDg4RExUUCBIPCgIZEhMKGhMNFAgLCxwHDhIXDREREQsGFg4ZExYLEwoOCQgKCA8QGQ8GFgMMBxMGGgkDARARDBUQDAgRCg8PDwwOFhQNCRUJHAoDBRIKDxEICQ0JGA0LFAgQDQQQDwwOEQkMChcPEg8IDBUEDQ4PFQ4JEggMCRUHEQsJDhAUFg8PDg8UCREWEBUUGBUWFQ4NDwsNEBMPCBUKFwgQAQ4UEAQSFQ4SFxMPBg0WDBMZFRINExAZDxgSCAsaCw8OFA4PDg8PBw8HFwkHBwoDDAoMAgoTBQkQDxEHCxUIDRMMCREYFA8IBwkSFhQSDhETCxUKDwwJDQw=",
          "dtype": "i1"
         },
         "yaxis": "y"
        },
        {
         "customdata": [
          [
           "Display"
          ],
          [
           "PCB"
          ],
          [
           "PCB"
          ],
          [
           "Display"
          ],
          [
           "Chassis"
          ],
          [
           "Engine"
          ],
          [
           "PCB"
          ],
          [
           "Chassis"
          ],
          [
           "Chassis"
          ],
          [
           "PCB"
          ],
          [
           "Engine"
          ],
          [
           "Battery"
          ],
          [
           "Display"
          ],
          [
           "Battery"
          ],
          [
           "Chassis"
          ],
          [
           "PCB"
          ],
          [
           "Chassis"
          ],
          [
           "Battery"
          ],
          [
           "Chassis"
          ],
          [
           "Battery"
          ],
          [
           "Chassis"
          ],
          [
           "Engine"
          ],
          [
           "Display"
          ],
          [
           "Display"
          ],
          [
           "Chassis"
          ],
          [
           "Chassis"
          ],
          [
           "Engine"
          ],
          [
           "Display"
          ],
          [
           "Chassis"
          ],
          [
           "Engine"
          ],
          [
           "Chassis"
          ],
          [
           "Engine"
          ],
          [
           "Battery"
          ],
          [
           "PCB"
          ],
          [
           "Display"
          ],
          [
           "Display"
          ],
          [
           "Chassis"
          ],
          [
           "Battery"
          ],
          [
           "Display"
          ],
          [
           "Engine"
          ],
          [
           "Chassis"
          ],
          [
           "Engine"
          ],
          [
           "Display"
          ],
          [
           "Display"
          ],
          [
           "Chassis"
          ],
          [
           "PCB"
          ],
          [
           "Battery"
          ],
          [
           "Battery"
          ],
          [
           "Engine"
          ],
          [
           "Engine"
          ],
          [
           "Engine"
          ],
          [
           "Chassis"
          ],
          [
           "Chassis"
          ],
          [
           "Engine"
          ],
          [
           "Display"
          ],
          [
           "PCB"
          ],
          [
           "Chassis"
          ],
          [
           "PCB"
          ],
          [
           "PCB"
          ],
          [
           "PCB"
          ],
          [
           "Chassis"
          ],
          [
           "Battery"
          ],
          [
           "PCB"
          ],
          [
           "Engine"
          ],
          [
           "Battery"
          ],
          [
           "PCB"
          ],
          [
           "Battery"
          ],
          [
           "Engine"
          ],
          [
           "Chassis"
          ],
          [
           "Engine"
          ],
          [
           "Chassis"
          ],
          [
           "Display"
          ],
          [
           "Chassis"
          ],
          [
           "Engine"
          ],
          [
           "Engine"
          ],
          [
           "Chassis"
          ],
          [
           "Chassis"
          ],
          [
           "PCB"
          ],
          [
           "Engine"
          ],
          [
           "PCB"
          ],
          [
           "Chassis"
          ],
          [
           "Display"
          ],
          [
           "Chassis"
          ],
          [
           "Engine"
          ],
          [
           "Engine"
          ],
          [
           "PCB"
          ],
          [
           "PCB"
          ],
          [
           "Battery"
          ],
          [
           "Engine"
          ],
          [
           "PCB"
          ],
          [
           "PCB"
          ],
          [
           "Chassis"
          ],
          [
           "Chassis"
          ],
          [
           "Engine"
          ],
          [
           "Display"
          ],
          [
           "PCB"
          ],
          [
           "Battery"
          ],
          [
           "Battery"
          ],
          [
           "PCB"
          ],
          [
           "Battery"
          ],
          [
           "PCB"
          ],
          [
           "Battery"
          ],
          [
           "Battery"
          ],
          [
           "Engine"
          ],
          [
           "Battery"
          ],
          [
           "Chassis"
          ],
          [
           "PCB"
          ],
          [
           "Chassis"
          ],
          [
           "Chassis"
          ],
          [
           "Display"
          ],
          [
           "Chassis"
          ],
          [
           "Chassis"
          ],
          [
           "Display"
          ],
          [
           "Chassis"
          ],
          [
           "Chassis"
          ],
          [
           "Display"
          ],
          [
           "Battery"
          ],
          [
           "Chassis"
          ],
          [
           "Battery"
          ],
          [
           "Display"
          ],
          [
           "Chassis"
          ],
          [
           "Engine"
          ],
          [
           "Battery"
          ],
          [
           "Engine"
          ],
          [
           "Display"
          ],
          [
           "Battery"
          ],
          [
           "Engine"
          ],
          [
           "Chassis"
          ],
          [
           "Chassis"
          ],
          [
           "Display"
          ],
          [
           "Chassis"
          ],
          [
           "Chassis"
          ],
          [
           "Engine"
          ],
          [
           "Battery"
          ],
          [
           "Display"
          ],
          [
           "Chassis"
          ],
          [
           "Battery"
          ],
          [
           "Battery"
          ],
          [
           "Engine"
          ],
          [
           "Chassis"
          ],
          [
           "Chassis"
          ],
          [
           "Battery"
          ],
          [
           "Display"
          ],
          [
           "PCB"
          ],
          [
           "Display"
          ],
          [
           "PCB"
          ],
          [
           "Battery"
          ],
          [
           "Battery"
          ],
          [
           "PCB"
          ],
          [
           "Chassis"
          ],
          [
           "Battery"
          ],
          [
           "Engine"
          ],
          [
           "Battery"
          ],
          [
           "Engine"
          ],
          [
           "Engine"
          ],
          [
           "Display"
          ],
          [
           "Display"
          ],
          [
           "Engine"
          ],
          [
           "Display"
          ],
          [
           "PCB"
          ],
          [
           "Chassis"
          ],
          [
           "Engine"
          ],
          [
           "Chassis"
          ],
          [
           "Chassis"
          ],
          [
           "Battery"
          ],
          [
           "Display"
          ],
          [
           "Chassis"
          ],
          [
           "Chassis"
          ],
          [
           "PCB"
          ],
          [
           "Display"
          ],
          [
           "Engine"
          ],
          [
           "Display"
          ],
          [
           "Battery"
          ],
          [
           "Display"
          ],
          [
           "Battery"
          ],
          [
           "Engine"
          ],
          [
           "Display"
          ],
          [
           "PCB"
          ],
          [
           "Battery"
          ],
          [
           "Display"
          ],
          [
           "PCB"
          ],
          [
           "Chassis"
          ],
          [
           "Engine"
          ],
          [
           "Battery"
          ],
          [
           "Display"
          ],
          [
           "Chassis"
          ],
          [
           "Display"
          ],
          [
           "Display"
          ],
          [
           "Display"
          ],
          [
           "Chassis"
          ],
          [
           "Engine"
          ],
          [
           "Engine"
          ],
          [
           "Engine"
          ],
          [
           "Battery"
          ],
          [
           "Chassis"
          ],
          [
           "Battery"
          ],
          [
           "Chassis"
          ],
          [
           "Battery"
          ],
          [
           "Chassis"
          ],
          [
           "Engine"
          ],
          [
           "Engine"
          ],
          [
           "Display"
          ],
          [
           "PCB"
          ],
          [
           "Engine"
          ],
          [
           "Battery"
          ],
          [
           "PCB"
          ],
          [
           "Engine"
          ],
          [
           "PCB"
          ],
          [
           "Battery"
          ],
          [
           "Engine"
          ],
          [
           "Display"
          ],
          [
           "Engine"
          ],
          [
           "Display"
          ],
          [
           "Display"
          ],
          [
           "PCB"
          ],
          [
           "Engine"
          ],
          [
           "PCB"
          ],
          [
           "Battery"
          ],
          [
           "Chassis"
          ],
          [
           "Battery"
          ],
          [
           "PCB"
          ],
          [
           "PCB"
          ],
          [
           "Battery"
          ],
          [
           "Display"
          ],
          [
           "Display"
          ],
          [
           "Battery"
          ],
          [
           "PCB"
          ],
          [
           "PCB"
          ],
          [
           "Battery"
          ],
          [
           "Battery"
          ],
          [
           "PCB"
          ],
          [
           "Battery"
          ],
          [
           "Engine"
          ],
          [
           "Engine"
          ],
          [
           "Battery"
          ],
          [
           "PCB"
          ],
          [
           "Chassis"
          ],
          [
           "Engine"
          ],
          [
           "Chassis"
          ],
          [
           "Battery"
          ],
          [
           "Display"
          ],
          [
           "PCB"
          ],
          [
           "PCB"
          ],
          [
           "PCB"
          ],
          [
           "PCB"
          ],
          [
           "PCB"
          ],
          [
           "PCB"
          ],
          [
           "Display"
          ],
          [
           "Display"
          ],
          [
           "Engine"
          ],
          [
           "Engine"
          ],
          [
           "Display"
          ],
          [
           "PCB"
          ],
          [
           "Engine"
          ],
          [
           "Engine"
          ],
          [
           "Display"
          ],
          [
           "Display"
          ],
          [
           "PCB"
          ],
          [
           "Engine"
          ],
          [
           "Engine"
          ],
          [
           "Engine"
          ],
          [
           "Chassis"
          ],
          [
           "Engine"
          ],
          [
           "Chassis"
          ],
          [
           "Chassis"
          ],
          [
           "Chassis"
          ],
          [
           "Battery"
          ],
          [
           "Engine"
          ],
          [
           "Display"
          ],
          [
           "Chassis"
          ],
          [
           "Battery"
          ],
          [
           "Chassis"
          ],
          [
           "PCB"
          ],
          [
           "Engine"
          ],
          [
           "PCB"
          ],
          [
           "Display"
          ],
          [
           "Chassis"
          ],
          [
           "Battery"
          ],
          [
           "Display"
          ],
          [
           "PCB"
          ],
          [
           "Battery"
          ],
          [
           "Battery"
          ],
          [
           "Display"
          ],
          [
           "Display"
          ],
          [
           "Battery"
          ],
          [
           "Chassis"
          ],
          [
           "Engine"
          ],
          [
           "PCB"
          ],
          [
           "Engine"
          ],
          [
           "Display"
          ],
          [
           "Chassis"
          ],
          [
           "Battery"
          ],
          [
           "Engine"
          ],
          [
           "PCB"
          ],
          [
           "PCB"
          ],
          [
           "Engine"
          ],
          [
           "Chassis"
          ],
          [
           "Engine"
          ],
          [
           "Chassis"
          ],
          [
           "PCB"
          ],
          [
           "Display"
          ],
          [
           "PCB"
          ],
          [
           "Engine"
          ],
          [
           "Chassis"
          ],
          [
           "Display"
          ],
          [
           "Engine"
          ],
          [
           "Engine"
          ],
          [
           "PCB"
          ],
          [
           "Chassis"
          ],
          [
           "Battery"
          ],
          [
           "Display"
          ],
          [
           "PCB"
          ],
          [
           "Engine"
          ],
          [
           "Display"
          ],
          [
           "Chassis"
          ],
          [
           "Display"
          ],
          [
           "Battery"
          ],
          [
           "PCB"
          ],
          [
           "PCB"
          ],
          [
           "Display"
          ],
          [
           "Chassis"
          ],
          [
           "Battery"
          ],
          [
           "Battery"
          ],
          [
           "Display"
          ],
          [
           "Battery"
          ],
          [
           "PCB"
          ],
          [
           "Chassis"
          ],
          [
           "Chassis"
          ],
          [
           "Chassis"
          ],
          [
           "Display"
          ],
          [
           "Battery"
          ],
          [
           "Engine"
          ],
          [
           "Display"
          ],
          [
           "Battery"
          ],
          [
           "Engine"
          ],
          [
           "Display"
          ],
          [
           "Battery"
          ],
          [
           "Battery"
          ],
          [
           "Battery"
          ],
          [
           "Engine"
          ],
          [
           "PCB"
          ],
          [
           "Engine"
          ],
          [
           "Display"
          ],
          [
           "Engine"
          ],
          [
           "Engine"
          ],
          [
           "Chassis"
          ],
          [
           "PCB"
          ],
          [
           "PCB"
          ],
          [
           "Engine"
          ],
          [
           "Battery"
          ],
          [
           "Engine"
          ],
          [
           "PCB"
          ],
          [
           "Battery"
          ],
          [
           "Engine"
          ],
          [
           "PCB"
          ],
          [
           "Chassis"
          ],
          [
           "Display"
          ],
          [
           "Battery"
          ],
          [
           "PCB"
          ],
          [
           "Engine"
          ],
          [
           "PCB"
          ],
          [
           "PCB"
          ],
          [
           "PCB"
          ],
          [
           "Display"
          ],
          [
           "Display"
          ],
          [
           "PCB"
          ],
          [
           "Battery"
          ],
          [
           "Engine"
          ],
          [
           "Display"
          ],
          [
           "Engine"
          ],
          [
           "Battery"
          ],
          [
           "PCB"
          ],
          [
           "Chassis"
          ],
          [
           "Battery"
          ],
          [
           "PCB"
          ],
          [
           "Engine"
          ],
          [
           "Engine"
          ],
          [
           "Battery"
          ],
          [
           "Battery"
          ],
          [
           "Display"
          ],
          [
           "Engine"
          ],
          [
           "Display"
          ],
          [
           "Engine"
          ],
          [
           "Chassis"
          ],
          [
           "Display"
          ],
          [
           "Chassis"
          ],
          [
           "Engine"
          ],
          [
           "PCB"
          ],
          [
           "Display"
          ],
          [
           "Chassis"
          ],
          [
           "Display"
          ],
          [
           "Engine"
          ],
          [
           "Chassis"
          ],
          [
           "Engine"
          ],
          [
           "PCB"
          ],
          [
           "Display"
          ],
          [
           "Battery"
          ],
          [
           "Battery"
          ],
          [
           "Engine"
          ],
          [
           "Engine"
          ],
          [
           "Battery"
          ],
          [
           "PCB"
          ],
          [
           "Battery"
          ],
          [
           "Chassis"
          ],
          [
           "PCB"
          ],
          [
           "PCB"
          ],
          [
           "Display"
          ],
          [
           "Engine"
          ],
          [
           "Chassis"
          ],
          [
           "Display"
          ],
          [
           "Engine"
          ],
          [
           "Display"
          ],
          [
           "Engine"
          ],
          [
           "Engine"
          ],
          [
           "Chassis"
          ],
          [
           "Battery"
          ],
          [
           "Engine"
          ],
          [
           "Battery"
          ],
          [
           "Battery"
          ],
          [
           "Battery"
          ],
          [
           "PCB"
          ],
          [
           "Chassis"
          ],
          [
           "Display"
          ],
          [
           "PCB"
          ],
          [
           "Chassis"
          ],
          [
           "Display"
          ],
          [
           "Battery"
          ],
          [
           "Engine"
          ],
          [
           "Display"
          ],
          [
           "Chassis"
          ],
          [
           "Battery"
          ],
          [
           "Display"
          ],
          [
           "Display"
          ],
          [
           "Display"
          ],
          [
           "Chassis"
          ],
          [
           "Engine"
          ],
          [
           "PCB"
          ],
          [
           "Engine"
          ],
          [
           "Chassis"
          ],
          [
           "Battery"
          ],
          [
           "Display"
          ],
          [
           "Engine"
          ],
          [
           "Chassis"
          ],
          [
           "Chassis"
          ],
          [
           "Display"
          ],
          [
           "Battery"
          ],
          [
           "Engine"
          ],
          [
           "PCB"
          ],
          [
           "Chassis"
          ],
          [
           "Battery"
          ],
          [
           "Battery"
          ],
          [
           "PCB"
          ],
          [
           "Engine"
          ],
          [
           "Display"
          ],
          [
           "Engine"
          ],
          [
           "Display"
          ],
          [
           "PCB"
          ],
          [
           "PCB"
          ],
          [
           "Chassis"
          ],
          [
           "Display"
          ],
          [
           "Battery"
          ],
          [
           "Battery"
          ],
          [
           "PCB"
          ],
          [
           "Display"
          ],
          [
           "Chassis"
          ],
          [
           "Display"
          ],
          [
           "Display"
          ],
          [
           "Engine"
          ],
          [
           "Battery"
          ],
          [
           "Display"
          ],
          [
           "PCB"
          ],
          [
           "Battery"
          ],
          [
           "PCB"
          ],
          [
           "Display"
          ],
          [
           "PCB"
          ],
          [
           "PCB"
          ],
          [
           "Battery"
          ],
          [
           "Battery"
          ],
          [
           "Chassis"
          ],
          [
           "Display"
          ],
          [
           "Chassis"
          ],
          [
           "Display"
          ],
          [
           "Engine"
          ],
          [
           "Battery"
          ],
          [
           "Chassis"
          ],
          [
           "Chassis"
          ],
          [
           "Chassis"
          ],
          [
           "Battery"
          ],
          [
           "Chassis"
          ],
          [
           "PCB"
          ],
          [
           "Engine"
          ],
          [
           "PCB"
          ],
          [
           "Chassis"
          ],
          [
           "Chassis"
          ],
          [
           "PCB"
          ],
          [
           "Chassis"
          ],
          [
           "Display"
          ],
          [
           "PCB"
          ],
          [
           "Engine"
          ],
          [
           "PCB"
          ],
          [
           "Battery"
          ],
          [
           "Battery"
          ],
          [
           "PCB"
          ],
          [
           "PCB"
          ],
          [
           "PCB"
          ],
          [
           "Engine"
          ],
          [
           "Chassis"
          ],
          [
           "Chassis"
          ],
          [
           "PCB"
          ],
          [
           "Engine"
          ],
          [
           "Engine"
          ],
          [
           "Engine"
          ],
          [
           "Display"
          ],
          [
           "Chassis"
          ],
          [
           "PCB"
          ],
          [
           "Display"
          ],
          [
           "Display"
          ],
          [
           "Chassis"
          ],
          [
           "Battery"
          ],
          [
           "Chassis"
          ],
          [
           "Chassis"
          ],
          [
           "Engine"
          ],
          [
           "PCB"
          ],
          [
           "Battery"
          ],
          [
           "PCB"
          ],
          [
           "Engine"
          ],
          [
           "Engine"
          ],
          [
           "Chassis"
          ],
          [
           "Engine"
          ],
          [
           "Chassis"
          ],
          [
           "Engine"
          ],
          [
           "Battery"
          ],
          [
           "Engine"
          ],
          [
           "Display"
          ],
          [
           "Engine"
          ],
          [
           "Chassis"
          ],
          [
           "Display"
          ],
          [
           "Battery"
          ],
          [
           "Chassis"
          ],
          [
           "Chassis"
          ],
          [
           "Battery"
          ],
          [
           "Battery"
          ],
          [
           "Display"
          ],
          [
           "PCB"
          ],
          [
           "PCB"
          ],
          [
           "Battery"
          ],
          [
           "Battery"
          ],
          [
           "PCB"
          ],
          [
           "Engine"
          ],
          [
           "PCB"
          ],
          [
           "PCB"
          ],
          [
           "Display"
          ],
          [
           "Engine"
          ],
          [
           "Engine"
          ],
          [
           "Chassis"
          ],
          [
           "Chassis"
          ],
          [
           "Engine"
          ],
          [
           "PCB"
          ],
          [
           "Battery"
          ],
          [
           "Chassis"
          ],
          [
           "Battery"
          ],
          [
           "Chassis"
          ],
          [
           "PCB"
          ],
          [
           "Battery"
          ],
          [
           "Display"
          ],
          [
           "Battery"
          ],
          [
           "Display"
          ],
          [
           "Engine"
          ],
          [
           "Chassis"
          ],
          [
           "Display"
          ],
          [
           "Chassis"
          ],
          [
           "Display"
          ],
          [
           "Chassis"
          ],
          [
           "Battery"
          ],
          [
           "Engine"
          ],
          [
           "Engine"
          ],
          [
           "Chassis"
          ],
          [
           "Chassis"
          ],
          [
           "PCB"
          ],
          [
           "Chassis"
          ],
          [
           "Display"
          ],
          [
           "Engine"
          ],
          [
           "Chassis"
          ],
          [
           "Chassis"
          ],
          [
           "Chassis"
          ],
          [
           "Chassis"
          ],
          [
           "Battery"
          ],
          [
           "Chassis"
          ],
          [
           "Battery"
          ],
          [
           "PCB"
          ],
          [
           "Display"
          ],
          [
           "Display"
          ],
          [
           "Chassis"
          ],
          [
           "Battery"
          ],
          [
           "Display"
          ],
          [
           "PCB"
          ],
          [
           "Battery"
          ],
          [
           "Battery"
          ],
          [
           "Engine"
          ],
          [
           "Chassis"
          ],
          [
           "Display"
          ],
          [
           "Battery"
          ],
          [
           "Chassis"
          ],
          [
           "Engine"
          ],
          [
           "Battery"
          ],
          [
           "PCB"
          ],
          [
           "Battery"
          ],
          [
           "Battery"
          ],
          [
           "Engine"
          ],
          [
           "Battery"
          ],
          [
           "Engine"
          ],
          [
           "Chassis"
          ],
          [
           "Engine"
          ],
          [
           "Chassis"
          ],
          [
           "Engine"
          ],
          [
           "Battery"
          ],
          [
           "Engine"
          ],
          [
           "Engine"
          ],
          [
           "PCB"
          ],
          [
           "Chassis"
          ],
          [
           "Battery"
          ],
          [
           "Display"
          ],
          [
           "Engine"
          ],
          [
           "Display"
          ],
          [
           "Chassis"
          ],
          [
           "Battery"
          ],
          [
           "PCB"
          ],
          [
           "Battery"
          ],
          [
           "Battery"
          ],
          [
           "Engine"
          ],
          [
           "PCB"
          ],
          [
           "PCB"
          ],
          [
           "Display"
          ],
          [
           "Engine"
          ],
          [
           "Chassis"
          ],
          [
           "Display"
          ],
          [
           "Display"
          ],
          [
           "Chassis"
          ],
          [
           "Engine"
          ],
          [
           "Display"
          ],
          [
           "Chassis"
          ],
          [
           "Display"
          ],
          [
           "Battery"
          ],
          [
           "Display"
          ],
          [
           "Engine"
          ],
          [
           "PCB"
          ],
          [
           "Display"
          ],
          [
           "PCB"
          ],
          [
           "Chassis"
          ],
          [
           "Engine"
          ],
          [
           "Battery"
          ],
          [
           "PCB"
          ],
          [
           "Battery"
          ],
          [
           "Engine"
          ],
          [
           "Display"
          ],
          [
           "PCB"
          ]
         ],
         "hovertemplate": "Change_Type=Supplier<br>Change_Complexity=%{x}<br>Approval_Time_Days=%{y}<br>Parts_Affected=%{marker.size}<br>Product_Type=%{customdata[0]}<extra></extra>",
         "legendgroup": "Supplier",
         "marker": {
          "color": "#00cc96",
          "size": {
           "bdata": "BgsOBwYKCQkFCA0OBQYHCQoDDRAIDAoJBwwKEAoQCw8UBgQHDQwKCAQHEgUHDQILEQ0HCwUEDwoHDREMDQcSBw4UDw4SEhELDBQTBxINCQwBBwcOCQ8TBBATDA8HBwsREQsFDQQRDBELDwYIChIIBg8GDAcMCgoECQoPBwcRBQ4FBw0FBBMKDRAHBAMJCQcMBgIOCgwHAwQIDhENBgkREgcJCAoIDgsIDw8KEQQOEgQOBAsQEQQKCw8QAwMJAgYKERIADgwOCAgECgsGDAoHFAIODQkMCRAGBxISBQ0EEQAVDAUSBBMMCwUPEAUFEQkNBg8DBg4RBhMSEAwRBQ8NCRECCQMHCgsLDQoMDQ0TCw4DEBIBBwsVEAMJEQgKBAgLEQ0KCQgFBQoRBwQSCgYFCwQHCwcJCA0PCBEODgcLCgsGCAwNCAoGDA0RCQgMDRACDBIPAw0JCwQHBQ4DEw0IAw4IEBMHEwYJAgoICQYEDwYFEQwMBA0HChEJCRMOBQ4IEBENBgsGBgoQDwIPDg0JCg8FBhYMCwQIBg0PARAHBwQFDwcGDQ4HEwsODgUQCw0GDxEWDRALDAcODhANEwwMDQINBAwMBggOCgkLBgsEBgcCDAIIAwwECg4PBwkCBwQHBA8TCwYIDAoREgsIDgoJCBMFCgsDCAsHDgoJDREMCgcRDAkDDBAGEAwHDBMPDQcQEAcNDREQEQMIDg0GDBEQBgUMFQ0FDg4TEQgQEgoICwUJBAYOCxIFEgYKCQgLCAYMBAsOEAoJCgsHChAJCQQRBg4NDBEKCg8ICgoIERERBQUJDQ4OBQcLCwQNBgUKBwkFDgsECAQPDQkPCAsIDwQQAxMFBwgMBAMFBwYMDgYFCQY=",
           "dtype": "i1"
          },
          "sizemode": "area",
          "sizeref": 0.055,
          "symbol": "circle"
         },
         "mode": "markers",
         "name": "Supplier",
         "showlegend": true,
         "type": "scattergl",
         "x": {
          "bdata": "CAkGCQcGAwMECgYGAQIBBwYBAgEHAgMIBAkHBwcIAwUGBwIHAQoCBAYHCQUHCgMDBwQDBwYGCAEIAQoHCQkIBAEJAwoICAkEAgkDBwUKBgcDAwQFCgIGBgcICQcCBwEHBgkFCQoIBwQJBwUEAgMDCQkBAwECBgoGCgQCBAEEBQIKCgkFAwoICAIIBwUDBQcCAgMJBwEGBAMKBwICCQMHAwQGBwkIBgMGCAcHCQUFAwMEBgYHCAIIBwYJAwcGBQUFCQYBBwEBCAcEBwgBBQEGCgMHBwEEAgoIBgYJBgQDCQIHCQgGAwkCAgQFBQEFCAQJBwIEBQYFCgcHCgoCBwoGCgkCBQMKCAkECggIAgkICgUCCAoCAQMKBAIFAwMBAQEDCAQFBggBCQoGBwQHCgcCBwEIAgIEBgQGAwgHBQoHBQoFBQkIAwYHCQoKAQIGBAUBCAoIAgcJBgYBAggFBggBAgkKCQQKBwIFAwIIBwQBCgIJCAIKAwgKCgYHBQUIAQcHCAUEBggDBwgJBQMGBAIJAgkCCQkECgQKCgcKAQYGBAcDBwoGBgICBQQGBwUFAgQEBAUKCQMFCggEBAoKBwgJAwEBAwkJBAIHBgUHCQMBBAMCBQEHBAQGBAgHBgUBAQIHAgYEAwcGBwQGBwcKBgcCCgQHCQcCBgMGCgMHBwYFBgUGCAQGBAgBCQIECgcJBQgKAwoHBAgHAgEGBQECBwIHBgUECAoHCgcKAwYIBAUHBAMDAQYDCgUBAQMKCgQHCQgBBwUEAgkKCgYEBQYIBgEJCAgHCgoJAgkHCgYDCgIHBgUEBwgEAQEHCAgGCQMDBwoHBAIFBwEFBAIJBgcBCQIJAwoFCgEKAgIHAwoGCgoJCAI=",
          "dtype": "i1"
         },
         "xaxis": "x",
         "y": {
          "bdata": "DhEMEhMSCAoKEgwPBA4NFhELCg8NDgkLDhsQEBASCwURCAYWCxMREg0SEgYXEQ4LDhEODBMREAYUBRUQHBUTEw4ZDxgZEhESCxQPEg8YExAIBw0TFxQOEgsKFBMCDQ0OBxgRFBITDxIWFAkSFAUPEBMJDw0ICxMGFgsRDAYKCw0cFA4HCRcTDQsQEg0MChMJCQwOFAwMEQ0RDwkOFgoUBwsVEx0REBAOFREOGwsHBgsMFBMTEQUUFA4XCBASExMQEQ8GDgMLExETEhMEEhASDwcVDAcKBBMUExIWDQsJEQcXEBYWBxQMCxYTEwQTFA8RDAMMCRQSFgwPFBEHCxMLGBEMCQsYExYDGBAYDxUUFg8NCRgGBAgYDAcYDg8OCA0PFhISFBcCFhsVDwsNFRMOEQ4TDRIMFQkTDwscBxoPDB0PEBQTDhAUFRMPBAsKDgsPEBQTCQkYDw4FAxASChQPDhUSFggaCg8NCgcJDwwJFAgUDAQTDQoXGQ4SEBMUARcTEQcLDxAUFw0UFA4QEA0YDRcFERYIFQwWGg4WDBQNDA0DDRIODgYJCQsTFhEQBw4ICRcZFQoMHRQHCBcXFhAVBggRBxcTEg4QEQ8REwoNEAsHDA4VDAsOBwsVCRAFDAcSDQ4MDBAUEwkNEw4OCBcNGgkPFBMPDAwUGA8WGBAQFRULFw4OCwwFEQMNEhMQBxwWEBQWCREQBwUOCgwNCwcSCgwHCxsQERITEQkUDw0SEQoQDhQNGwgLDA8ZExAYGREDEwoLBxcVEgsDDxANFAUOEw4QGBMOChcLEQgFGAQbChAOCxgP/w4MEAsSFwYJDhIYDAgNCg8QFQcTEBAOFA0TDhYLFgQXDQQUDBERHBISDgk=",
          "dtype": "i1"
         },
         "yaxis": "y"
        }
       ],
       "layout": {
        "legend": {
         "itemsizing": "constant",
         "title": {
          "text": "Change_Type"
         },
         "tracegroupgap": 0
        },
        "margin": {
         "t": 60
        },
        "template": {
         "data": {
          "bar": [
           {
            "error_x": {
             "color": "#2a3f5f"
            },
            "error_y": {
             "color": "#2a3f5f"
            },
            "marker": {
             "line": {
              "color": "#E5ECF6",
              "width": 0.5
             },
             "pattern": {
              "fillmode": "overlay",
              "size": 10,
              "solidity": 0.2
             }
            },
            "type": "bar"
           }
          ],
          "barpolar": [
           {
            "marker": {
             "line": {
              "color": "#E5ECF6",
              "width": 0.5
             },
             "pattern": {
              "fillmode": "overlay",
              "size": 10,
              "solidity": 0.2
             }
            },
            "type": "barpolar"
           }
          ],
          "carpet": [
           {
            "aaxis": {
             "endlinecolor": "#2a3f5f",
             "gridcolor": "white",
             "linecolor": "white",
             "minorgridcolor": "white",
             "startlinecolor": "#2a3f5f"
            },
            "baxis": {
             "endlinecolor": "#2a3f5f",
             "gridcolor": "white",
             "linecolor": "white",
             "minorgridcolor": "white",
             "startlinecolor": "#2a3f5f"
            },
            "type": "carpet"
           }
          ],
          "choropleth": [
           {
            "colorbar": {
             "outlinewidth": 0,
             "ticks": ""
            },
            "type": "choropleth"
           }
          ],
          "contour": [
           {
            "colorbar": {
             "outlinewidth": 0,
             "ticks": ""
            },
            "colorscale": [
             [
              0,
              "#0d0887"
             ],
             [
              0.1111111111111111,
              "#46039f"
             ],
             [
              0.2222222222222222,
              "#7201a8"
             ],
             [
              0.3333333333333333,
              "#9c179e"
             ],
             [
              0.4444444444444444,
              "#bd3786"
             ],
             [
              0.5555555555555556,
              "#d8576b"
             ],
             [
              0.6666666666666666,
              "#ed7953"
             ],
             [
              0.7777777777777778,
              "#fb9f3a"
             ],
             [
              0.8888888888888888,
              "#fdca26"
             ],
             [
              1,
              "#f0f921"
             ]
            ],
            "type": "contour"
           }
          ],
          "contourcarpet": [
           {
            "colorbar": {
             "outlinewidth": 0,
             "ticks": ""
            },
            "type": "contourcarpet"
           }
          ],
          "heatmap": [
           {
            "colorbar": {
             "outlinewidth": 0,
             "ticks": ""
            },
            "colorscale": [
             [
              0,
              "#0d0887"
             ],
             [
              0.1111111111111111,
              "#46039f"
             ],
             [
              0.2222222222222222,
              "#7201a8"
             ],
             [
              0.3333333333333333,
              "#9c179e"
             ],
             [
              0.4444444444444444,
              "#bd3786"
             ],
             [
              0.5555555555555556,
              "#d8576b"
             ],
             [
              0.6666666666666666,
              "#ed7953"
             ],
             [
              0.7777777777777778,
              "#fb9f3a"
             ],
             [
              0.8888888888888888,
              "#fdca26"
             ],
             [
              1,
              "#f0f921"
             ]
            ],
            "type": "heatmap"
           }
          ],
          "histogram": [
           {
            "marker": {
             "pattern": {
              "fillmode": "overlay",
              "size": 10,
              "solidity": 0.2
             }
            },
            "type": "histogram"
           }
          ],
          "histogram2d": [
           {
            "colorbar": {
             "outlinewidth": 0,
             "ticks": ""
            },
            "colorscale": [
             [
              0,
              "#0d0887"
             ],
             [
              0.1111111111111111,
              "#46039f"
             ],
             [
              0.2222222222222222,
              "#7201a8"
             ],
             [
              0.3333333333333333,
              "#9c179e"
             ],
             [
              0.4444444444444444,
              "#bd3786"
             ],
             [
              0.5555555555555556,
              "#d8576b"
             ],
             [
              0.6666666666666666,
              "#ed7953"
             ],
             [
              0.7777777777777778,
              "#fb9f3a"
             ],
             [
              0.8888888888888888,
              "#fdca26"
             ],
             [
              1,
              "#f0f921"
             ]
            ],
            "type": "histogram2d"
           }
          ],
          "histogram2dcontour": [
           {
            "colorbar": {
             "outlinewidth": 0,
             "ticks": ""
            },
            "colorscale": [
             [
              0,
              "#0d0887"
             ],
             [
              0.1111111111111111,
              "#46039f"
             ],
             [
              0.2222222222222222,
              "#7201a8"
             ],
             [
              0.3333333333333333,
              "#9c179e"
             ],
             [
              0.4444444444444444,
              "#bd3786"
             ],
             [
              0.5555555555555556,
              "#d8576b"
             ],
             [
              0.6666666666666666,
              "#ed7953"
             ],
             [
              0.7777777777777778,
              "#fb9f3a"
             ],
             [
              0.8888888888888888,
              "#fdca26"
             ],
             [
              1,
              "#f0f921"
             ]
            ],
            "type": "histogram2dcontour"
           }
          ],
          "mesh3d": [
           {
            "colorbar": {
             "outlinewidth": 0,
             "ticks": ""
            },
            "type": "mesh3d"
           }
          ],
          "parcoords": [
           {
            "line": {
             "colorbar": {
              "outlinewidth": 0,
              "ticks": ""
             }
            },
            "type": "parcoords"
           }
          ],
          "pie": [
           {
            "automargin": true,
            "type": "pie"
           }
          ],
          "scatter": [
           {
            "fillpattern": {
             "fillmode": "overlay",
             "size": 10,
             "solidity": 0.2
            },
            "type": "scatter"
           }
          ],
          "scatter3d": [
           {
            "line": {
             "colorbar": {
              "outlinewidth": 0,
              "ticks": ""
             }
            },
            "marker": {
             "colorbar": {
              "outlinewidth": 0,
              "ticks": ""
             }
            },
            "type": "scatter3d"
           }
          ],
          "scattercarpet": [
           {
            "marker": {
             "colorbar": {
              "outlinewidth": 0,
              "ticks": ""
             }
            },
            "type": "scattercarpet"
           }
          ],
          "scattergeo": [
           {
            "marker": {
             "colorbar": {
              "outlinewidth": 0,
              "ticks": ""
             }
            },
            "type": "scattergeo"
           }
          ],
          "scattergl": [
           {
            "marker": {
             "colorbar": {
              "outlinewidth": 0,
              "ticks": ""
             }
            },
            "type": "scattergl"
           }
          ],
          "scattermap": [
           {
            "marker": {
             "colorbar": {
              "outlinewidth": 0,
              "ticks": ""
             }
            },
            "type": "scattermap"
           }
          ],
          "scattermapbox": [
           {
            "marker": {
             "colorbar": {
              "outlinewidth": 0,
              "ticks": ""
             }
            },
            "type": "scattermapbox"
           }
          ],
          "scatterpolar": [
           {
            "marker": {
             "colorbar": {
              "outlinewidth": 0,
              "ticks": ""
             }
            },
            "type": "scatterpolar"
           }
          ],
          "scatterpolargl": [
           {
            "marker": {
             "colorbar": {
              "outlinewidth": 0,
              "ticks": ""
             }
            },
            "type": "scatterpolargl"
           }
          ],
          "scatterternary": [
           {
            "marker": {
             "colorbar": {
              "outlinewidth": 0,
              "ticks": ""
             }
            },
            "type": "scatterternary"
           }
          ],
          "surface": [
           {
            "colorbar": {
             "outlinewidth": 0,
             "ticks": ""
            },
            "colorscale": [
             [
              0,
              "#0d0887"
             ],
             [
              0.1111111111111111,
              "#46039f"
             ],
             [
              0.2222222222222222,
              "#7201a8"
             ],
             [
              0.3333333333333333,
              "#9c179e"
             ],
             [
              0.4444444444444444,
              "#bd3786"
             ],
             [
              0.5555555555555556,
              "#d8576b"
             ],
             [
              0.6666666666666666,
              "#ed7953"
             ],
             [
              0.7777777777777778,
              "#fb9f3a"
             ],
             [
              0.8888888888888888,
              "#fdca26"
             ],
             [
              1,
              "#f0f921"
             ]
            ],
            "type": "surface"
           }
          ],
          "table": [
           {
            "cells": {
             "fill": {
              "color": "#EBF0F8"
             },
             "line": {
              "color": "white"
             }
            },
            "header": {
             "fill": {
              "color": "#C8D4E3"
             },
             "line": {
              "color": "white"
             }
            },
            "type": "table"
           }
          ]
         },
         "layout": {
          "annotationdefaults": {
           "arrowcolor": "#2a3f5f",
           "arrowhead": 0,
           "arrowwidth": 1
          },
          "autotypenumbers": "strict",
          "coloraxis": {
           "colorbar": {
            "outlinewidth": 0,
            "ticks": ""
           }
          },
          "colorscale": {
           "diverging": [
            [
             0,
             "#8e0152"
            ],
            [
             0.1,
             "#c51b7d"
            ],
            [
             0.2,
             "#de77ae"
            ],
            [
             0.3,
             "#f1b6da"
            ],
            [
             0.4,
             "#fde0ef"
            ],
            [
             0.5,
             "#f7f7f7"
            ],
            [
             0.6,
             "#e6f5d0"
            ],
            [
             0.7,
             "#b8e186"
            ],
            [
             0.8,
             "#7fbc41"
            ],
            [
             0.9,
             "#4d9221"
            ],
            [
             1,
             "#276419"
            ]
           ],
           "sequential": [
            [
             0,
             "#0d0887"
            ],
            [
             0.1111111111111111,
             "#46039f"
            ],
            [
             0.2222222222222222,
             "#7201a8"
            ],
            [
             0.3333333333333333,
             "#9c179e"
            ],
            [
             0.4444444444444444,
             "#bd3786"
            ],
            [
             0.5555555555555556,
             "#d8576b"
            ],
            [
             0.6666666666666666,
             "#ed7953"
            ],
            [
             0.7777777777777778,
             "#fb9f3a"
            ],
            [
             0.8888888888888888,
             "#fdca26"
            ],
            [
             1,
             "#f0f921"
            ]
           ],
           "sequentialminus": [
            [
             0,
             "#0d0887"
            ],
            [
             0.1111111111111111,
             "#46039f"
            ],
            [
             0.2222222222222222,
             "#7201a8"
            ],
            [
             0.3333333333333333,
             "#9c179e"
            ],
            [
             0.4444444444444444,
             "#bd3786"
            ],
            [
             0.5555555555555556,
             "#d8576b"
            ],
            [
             0.6666666666666666,
             "#ed7953"
            ],
            [
             0.7777777777777778,
             "#fb9f3a"
            ],
            [
             0.8888888888888888,
             "#fdca26"
            ],
            [
             1,
             "#f0f921"
            ]
           ]
          },
          "colorway": [
           "#636efa",
           "#EF553B",
           "#00cc96",
           "#ab63fa",
           "#FFA15A",
           "#19d3f3",
           "#FF6692",
           "#B6E880",
           "#FF97FF",
           "#FECB52"
          ],
          "font": {
           "color": "#2a3f5f"
          },
          "geo": {
           "bgcolor": "white",
           "lakecolor": "white",
           "landcolor": "#E5ECF6",
           "showlakes": true,
           "showland": true,
           "subunitcolor": "white"
          },
          "hoverlabel": {
           "align": "left"
          },
          "hovermode": "closest",
          "mapbox": {
           "style": "light"
          },
          "paper_bgcolor": "white",
          "plot_bgcolor": "#E5ECF6",
          "polar": {
           "angularaxis": {
            "gridcolor": "white",
            "linecolor": "white",
            "ticks": ""
           },
           "bgcolor": "#E5ECF6",
           "radialaxis": {
            "gridcolor": "white",
            "linecolor": "white",
            "ticks": ""
           }
          },
          "scene": {
           "xaxis": {
            "backgroundcolor": "#E5ECF6",
            "gridcolor": "white",
            "gridwidth": 2,
            "linecolor": "white",
            "showbackground": true,
            "ticks": "",
            "zerolinecolor": "white"
           },
           "yaxis": {
            "backgroundcolor": "#E5ECF6",
            "gridcolor": "white",
            "gridwidth": 2,
            "linecolor": "white",
            "showbackground": true,
            "ticks": "",
            "zerolinecolor": "white"
           },
           "zaxis": {
            "backgroundcolor": "#E5ECF6",
            "gridcolor": "white",
            "gridwidth": 2,
            "linecolor": "white",
            "showbackground": true,
            "ticks": "",
            "zerolinecolor": "white"
           }
          },
          "shapedefaults": {
           "line": {
            "color": "#2a3f5f"
           }
          },
          "ternary": {
           "aaxis": {
            "gridcolor": "white",
            "linecolor": "white",
            "ticks": ""
           },
           "baxis": {
            "gridcolor": "white",
            "linecolor": "white",
            "ticks": ""
           },
           "bgcolor": "#E5ECF6",
           "caxis": {
            "gridcolor": "white",
            "linecolor": "white",
            "ticks": ""
           }
          },
          "title": {
           "x": 0.05
          },
          "xaxis": {
           "automargin": true,
           "gridcolor": "white",
           "linecolor": "white",
           "ticks": "",
           "title": {
            "standoff": 15
           },
           "zerolinecolor": "white",
           "zerolinewidth": 2
          },
          "yaxis": {
           "automargin": true,
           "gridcolor": "white",
           "linecolor": "white",
           "ticks": "",
           "title": {
            "standoff": 15
           },
           "zerolinecolor": "white",
           "zerolinewidth": 2
          }
         }
        },
        "xaxis": {
         "anchor": "y",
         "domain": [
          0,
          1
         ],
         "title": {
          "text": "Change_Complexity"
         }
        },
        "yaxis": {
         "anchor": "x",
         "domain": [
          0,
          1
         ],
         "title": {
          "text": "Approval_Time_Days"
         }
        }
       }
      }
     },
     "metadata": {},
     "output_type": "display_data"
    }
   ],
   "source": [
    "# Interactive Plotly Example\n",
    "\n",
    "fig = px.scatter(df, x=\"Change_Complexity\", y=\"Approval_Time_Days\", color=\"Change_Type\",\n",
    "                 size=\"Parts_Affected\", hover_data=[\"Product_Type\"])\n",
    "fig.show()\n"
   ]
  },
  {
   "cell_type": "code",
   "execution_count": null,
   "id": "8d803158",
   "metadata": {},
   "outputs": [],
   "source": []
  },
  {
   "cell_type": "code",
   "execution_count": null,
   "id": "da474d67",
   "metadata": {},
   "outputs": [],
   "source": []
  }
 ],
 "metadata": {
  "kernelspec": {
   "display_name": "venv (3.10.12)",
   "language": "python",
   "name": "python3"
  },
  "language_info": {
   "codemirror_mode": {
    "name": "ipython",
    "version": 3
   },
   "file_extension": ".py",
   "mimetype": "text/x-python",
   "name": "python",
   "nbconvert_exporter": "python",
   "pygments_lexer": "ipython3",
   "version": "3.10.12"
  }
 },
 "nbformat": 4,
 "nbformat_minor": 5
}
